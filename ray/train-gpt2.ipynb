{
 "cells": [
  {
   "cell_type": "code",
   "execution_count": 1,
   "id": "5d1a5afc",
   "metadata": {},
   "outputs": [],
   "source": [
    "# !pip3 install ray ray[client] --user\n",
    "# !pip3 install datasets --user"
   ]
  },
  {
   "cell_type": "code",
   "execution_count": null,
   "id": "e1a0a23d",
   "metadata": {},
   "outputs": [],
   "source": [
    "from transformers import (\n",
    "    AutoConfig, \n",
    "    AutoModelForCausalLM, \n",
    "    AutoTokenizer, \n",
    "    default_data_collator,\n",
    "    TrainingArguments,\n",
    "    Trainer\n",
    ")\n",
    "from datasets import load_dataset, load_from_disk\n",
    "\n",
    "import ray\n",
    "from ray.train.huggingface import TransformersTrainer\n",
    "from ray.train import ScalingConfig\n",
    "from ray.train.torch import TorchTrainer\n",
    "from transformers.trainer_utils import get_last_checkpoint\n",
    "import os\n",
    "import wandb\n",
    "\n",
    "wandb_api = wandb.Api()"
   ]
  },
  {
   "cell_type": "code",
   "execution_count": null,
   "id": "4a95a520",
   "metadata": {},
   "outputs": [],
   "source": [
    "WANDB_PROJECT = os.environ.get('WANDB_PROJECT', 'run-ray')\n",
    "WANDB_API_KEY = os.environ.get('WANDB_API_KEY', wandb_api.api_key)"
   ]
  },
  {
   "cell_type": "code",
   "execution_count": null,
   "id": "87da6427",
   "metadata": {},
   "outputs": [],
   "source": [
    "runtime_env = {\n",
    "    \"pip\": ['wandb', 's3fs'],\n",
    "    \"env_vars\": {\"WANDB_PROJECT\": WANDB_PROJECT,\n",
    "                'WANDB_API_KEY': WANDB_API_KEY}\n",
    "}\n",
    "\n",
    "ray.init(\"ray://jupyter:10001\", runtime_env=runtime_env)"
   ]
  },
  {
   "cell_type": "code",
   "execution_count": null,
   "id": "47d560fd",
   "metadata": {},
   "outputs": [],
   "source": [
    "def train_func(config):\n",
    "    import s3fs\n",
    "    MODEL_NAME = \"gpt2\"\n",
    "\n",
    "    fs = s3fs.S3FileSystem(endpoint_url = 'http://minio:9000', anon = True)\n",
    "    train_dataset = load_from_disk('s3://train/wiki-test', \n",
    "                                 storage_options=fs.storage_options, \n",
    "                                 keep_in_memory = False)\n",
    "    model = AutoModelForCausalLM.from_pretrained(MODEL_NAME)\n",
    "    \n",
    "    output_dir = f\"/home/ubuntu/{MODEL_NAME}-test\"\n",
    "    \n",
    "    args = TrainingArguments(\n",
    "        output_dir=output_dir,\n",
    "        save_strategy=\"steps\",\n",
    "        logging_strategy=\"steps\",\n",
    "        learning_rate=2e-5,\n",
    "        weight_decay=0.01,\n",
    "        max_steps=10000,\n",
    "        save_steps = 100,\n",
    "        save_total_limit = 2,\n",
    "        logging_steps = 1,\n",
    "        per_device_train_batch_size = 6,\n",
    "    )\n",
    "\n",
    "    trainer = Trainer(\n",
    "        model=model,\n",
    "        args=args,\n",
    "        train_dataset=train_dataset,\n",
    "        data_collator=default_data_collator,\n",
    "    )\n",
    "    \n",
    "    last_checkpoint = get_last_checkpoint(output_dir)\n",
    "    checkpoint = None\n",
    "    if last_checkpoint is not None:\n",
    "        checkpoint = last_checkpoint\n",
    "    print(checkpoint)\n",
    "    trainer.train(resume_from_checkpoint=checkpoint)"
   ]
  },
  {
   "cell_type": "code",
   "execution_count": null,
   "id": "898c6fd0",
   "metadata": {
    "scrolled": true
   },
   "outputs": [],
   "source": [
    "scaling_config = ScalingConfig(num_workers=1, use_gpu=True)\n",
    "ray_trainer = TorchTrainer(\n",
    "    train_func,\n",
    "    scaling_config=scaling_config,\n",
    ")\n",
    "result = ray_trainer.fit()"
   ]
  },
  {
   "cell_type": "code",
   "execution_count": null,
   "id": "5fb421a1",
   "metadata": {},
   "outputs": [],
   "source": []
  }
 ],
 "metadata": {
  "kernelspec": {
   "display_name": "Python 3 (ipykernel)",
   "language": "python",
   "name": "python3"
  },
  "language_info": {
   "codemirror_mode": {
    "name": "ipython",
    "version": 3
   },
   "file_extension": ".py",
   "mimetype": "text/x-python",
   "name": "python",
   "nbconvert_exporter": "python",
   "pygments_lexer": "ipython3",
   "version": "3.10.11"
  }
 },
 "nbformat": 4,
 "nbformat_minor": 5
}
