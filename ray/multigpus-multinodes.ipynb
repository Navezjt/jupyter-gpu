{
 "cells": [
  {
   "cell_type": "code",
   "execution_count": 1,
   "id": "ef111f83",
   "metadata": {},
   "outputs": [],
   "source": [
    "import os\n",
    "\n",
    "os.environ['WANDB_API_KEY'] = ''"
   ]
  },
  {
   "cell_type": "code",
   "execution_count": 2,
   "id": "3d4bb24e",
   "metadata": {},
   "outputs": [
    {
     "name": "stderr",
     "output_type": "stream",
     "text": [
      "WARNING: pip is being invoked by an old script wrapper. This will fail in a future version of pip.\n",
      "Please see https://github.com/pypa/pip/issues/5599 for advice on fixing the underlying issue.\n",
      "To avoid this problem you can invoke Python with '-m pip' instead of running pip directly.\n"
     ]
    },
    {
     "data": {
      "text/html": [
       "<pre style=\"white-space:pre;overflow-x:auto;line-height:normal;font-family:Menlo,'DejaVu Sans Mono',consolas,'Courier New',monospace\">Defaulting to user installation because normal site-packages is not writeable\n",
       "</pre>\n"
      ],
      "text/plain": [
       "Defaulting to user installation because normal site-packages is not writeable\n"
      ]
     },
     "metadata": {},
     "output_type": "display_data"
    },
    {
     "data": {
      "text/html": [
       "<pre style=\"white-space:pre;overflow-x:auto;line-height:normal;font-family:Menlo,'DejaVu Sans Mono',consolas,'Courier New',monospace\">Requirement already satisfied: wandb in /home/ubuntu/.local/lib/python3.10/site-packages (0.16.0)\n",
       "</pre>\n"
      ],
      "text/plain": [
       "Requirement already satisfied: wandb in /home/ubuntu/.local/lib/python3.10/site-packages (0.16.0)\n"
      ]
     },
     "metadata": {},
     "output_type": "display_data"
    },
    {
     "data": {
      "text/html": [
       "<pre style=\"white-space:pre;overflow-x:auto;line-height:normal;font-family:Menlo,'DejaVu Sans Mono',consolas,'Courier New',monospace\">Requirement already satisfied: protobuf!=4.21.0,&lt;5,&gt;=3.19.0 in /home/ubuntu/.local/lib/python3.10/site-packages (from wandb) (4.25.1)\n",
       "</pre>\n"
      ],
      "text/plain": [
       "Requirement already satisfied: protobuf!=4.21.0,<5,>=3.19.0 in /home/ubuntu/.local/lib/python3.10/site-packages (from wandb) (4.25.1)\n"
      ]
     },
     "metadata": {},
     "output_type": "display_data"
    },
    {
     "data": {
      "text/html": [
       "<pre style=\"white-space:pre;overflow-x:auto;line-height:normal;font-family:Menlo,'DejaVu Sans Mono',consolas,'Courier New',monospace\">Requirement already satisfied: setuptools in /usr/lib/python3/dist-packages (from wandb) (59.6.0)\n",
       "</pre>\n"
      ],
      "text/plain": [
       "Requirement already satisfied: setuptools in /usr/lib/python3/dist-packages (from wandb) (59.6.0)\n"
      ]
     },
     "metadata": {},
     "output_type": "display_data"
    },
    {
     "data": {
      "text/html": [
       "<pre style=\"white-space:pre;overflow-x:auto;line-height:normal;font-family:Menlo,'DejaVu Sans Mono',consolas,'Courier New',monospace\">Requirement already satisfied: sentry-sdk&gt;=1.0.0 in /home/ubuntu/.local/lib/python3.10/site-packages (from wandb) (1.36.0)\n",
       "</pre>\n"
      ],
      "text/plain": [
       "Requirement already satisfied: sentry-sdk>=1.0.0 in /home/ubuntu/.local/lib/python3.10/site-packages (from wandb) (1.36.0)\n"
      ]
     },
     "metadata": {},
     "output_type": "display_data"
    },
    {
     "data": {
      "text/html": [
       "<pre style=\"white-space:pre;overflow-x:auto;line-height:normal;font-family:Menlo,'DejaVu Sans Mono',consolas,'Courier New',monospace\">Requirement already satisfied: psutil&gt;=5.0.0 in /usr/local/lib/python3.10/dist-packages (from wandb) (5.9.6)\n",
       "</pre>\n"
      ],
      "text/plain": [
       "Requirement already satisfied: psutil>=5.0.0 in /usr/local/lib/python3.10/dist-packages (from wandb) (5.9.6)\n"
      ]
     },
     "metadata": {},
     "output_type": "display_data"
    },
    {
     "data": {
      "text/html": [
       "<pre style=\"white-space:pre;overflow-x:auto;line-height:normal;font-family:Menlo,'DejaVu Sans Mono',consolas,'Courier New',monospace\">Requirement already satisfied: docker-pycreds&gt;=0.4.0 in /home/ubuntu/.local/lib/python3.10/site-packages (from wandb) (0.4.0)\n",
       "</pre>\n"
      ],
      "text/plain": [
       "Requirement already satisfied: docker-pycreds>=0.4.0 in /home/ubuntu/.local/lib/python3.10/site-packages (from wandb) (0.4.0)\n"
      ]
     },
     "metadata": {},
     "output_type": "display_data"
    },
    {
     "data": {
      "text/html": [
       "<pre style=\"white-space:pre;overflow-x:auto;line-height:normal;font-family:Menlo,'DejaVu Sans Mono',consolas,'Courier New',monospace\">Requirement already satisfied: appdirs&gt;=1.4.3 in /home/ubuntu/.local/lib/python3.10/site-packages (from wandb) (1.4.4)\n",
       "</pre>\n"
      ],
      "text/plain": [
       "Requirement already satisfied: appdirs>=1.4.3 in /home/ubuntu/.local/lib/python3.10/site-packages (from wandb) (1.4.4)\n"
      ]
     },
     "metadata": {},
     "output_type": "display_data"
    },
    {
     "data": {
      "text/html": [
       "<pre style=\"white-space:pre;overflow-x:auto;line-height:normal;font-family:Menlo,'DejaVu Sans Mono',consolas,'Courier New',monospace\">Requirement already satisfied: GitPython!=3.1.29,&gt;=1.0.0 in /home/ubuntu/.local/lib/python3.10/site-packages (from wandb) (3.1.40)\n",
       "</pre>\n"
      ],
      "text/plain": [
       "Requirement already satisfied: GitPython!=3.1.29,>=1.0.0 in /home/ubuntu/.local/lib/python3.10/site-packages (from wandb) (3.1.40)\n"
      ]
     },
     "metadata": {},
     "output_type": "display_data"
    },
    {
     "data": {
      "text/html": [
       "<pre style=\"white-space:pre;overflow-x:auto;line-height:normal;font-family:Menlo,'DejaVu Sans Mono',consolas,'Courier New',monospace\">Requirement already satisfied: requests&lt;3,&gt;=2.0.0 in /home/ubuntu/.local/lib/python3.10/site-packages (from wandb) (2.31.0)\n",
       "</pre>\n"
      ],
      "text/plain": [
       "Requirement already satisfied: requests<3,>=2.0.0 in /home/ubuntu/.local/lib/python3.10/site-packages (from wandb) (2.31.0)\n"
      ]
     },
     "metadata": {},
     "output_type": "display_data"
    },
    {
     "data": {
      "text/html": [
       "<pre style=\"white-space:pre;overflow-x:auto;line-height:normal;font-family:Menlo,'DejaVu Sans Mono',consolas,'Courier New',monospace\">Requirement already satisfied: Click!=8.0.0,&gt;=7.1 in /home/ubuntu/.local/lib/python3.10/site-packages (from wandb) (8.1.7)\n",
       "</pre>\n"
      ],
      "text/plain": [
       "Requirement already satisfied: Click!=8.0.0,>=7.1 in /home/ubuntu/.local/lib/python3.10/site-packages (from wandb) (8.1.7)\n"
      ]
     },
     "metadata": {},
     "output_type": "display_data"
    },
    {
     "data": {
      "text/html": [
       "<pre style=\"white-space:pre;overflow-x:auto;line-height:normal;font-family:Menlo,'DejaVu Sans Mono',consolas,'Courier New',monospace\">Requirement already satisfied: PyYAML in /home/ubuntu/.local/lib/python3.10/site-packages (from wandb) (6.0.1)\n",
       "</pre>\n"
      ],
      "text/plain": [
       "Requirement already satisfied: PyYAML in /home/ubuntu/.local/lib/python3.10/site-packages (from wandb) (6.0.1)\n"
      ]
     },
     "metadata": {},
     "output_type": "display_data"
    },
    {
     "data": {
      "text/html": [
       "<pre style=\"white-space:pre;overflow-x:auto;line-height:normal;font-family:Menlo,'DejaVu Sans Mono',consolas,'Courier New',monospace\">Requirement already satisfied: setproctitle in /home/ubuntu/.local/lib/python3.10/site-packages (from wandb) (1.3.3)\n",
       "</pre>\n"
      ],
      "text/plain": [
       "Requirement already satisfied: setproctitle in /home/ubuntu/.local/lib/python3.10/site-packages (from wandb) (1.3.3)\n"
      ]
     },
     "metadata": {},
     "output_type": "display_data"
    },
    {
     "data": {
      "text/html": [
       "<pre style=\"white-space:pre;overflow-x:auto;line-height:normal;font-family:Menlo,'DejaVu Sans Mono',consolas,'Courier New',monospace\">Requirement already satisfied: six&gt;=1.4.0 in /usr/local/lib/python3.10/dist-packages (from docker-pycreds&gt;=0.4.0-&gt;wandb) (1.16.0)\n",
       "</pre>\n"
      ],
      "text/plain": [
       "Requirement already satisfied: six>=1.4.0 in /usr/local/lib/python3.10/dist-packages (from docker-pycreds>=0.4.0->wandb) (1.16.0)\n"
      ]
     },
     "metadata": {},
     "output_type": "display_data"
    },
    {
     "data": {
      "text/html": [
       "<pre style=\"white-space:pre;overflow-x:auto;line-height:normal;font-family:Menlo,'DejaVu Sans Mono',consolas,'Courier New',monospace\">Requirement already satisfied: gitdb&lt;5,&gt;=4.0.1 in /home/ubuntu/.local/lib/python3.10/site-packages (from GitPython!=3.1.29,&gt;=1.0.0-&gt;wandb) (4.0.11)\n",
       "</pre>\n"
      ],
      "text/plain": [
       "Requirement already satisfied: gitdb<5,>=4.0.1 in /home/ubuntu/.local/lib/python3.10/site-packages (from GitPython!=3.1.29,>=1.0.0->wandb) (4.0.11)\n"
      ]
     },
     "metadata": {},
     "output_type": "display_data"
    },
    {
     "data": {
      "text/html": [
       "<pre style=\"white-space:pre;overflow-x:auto;line-height:normal;font-family:Menlo,'DejaVu Sans Mono',consolas,'Courier New',monospace\">Requirement already satisfied: idna&lt;4,&gt;=2.5 in /usr/local/lib/python3.10/dist-packages (from requests&lt;3,&gt;=2.0.0-&gt;wandb) (3.4)\n",
       "</pre>\n"
      ],
      "text/plain": [
       "Requirement already satisfied: idna<4,>=2.5 in /usr/local/lib/python3.10/dist-packages (from requests<3,>=2.0.0->wandb) (3.4)\n"
      ]
     },
     "metadata": {},
     "output_type": "display_data"
    },
    {
     "data": {
      "text/html": [
       "<pre style=\"white-space:pre;overflow-x:auto;line-height:normal;font-family:Menlo,'DejaVu Sans Mono',consolas,'Courier New',monospace\">Requirement already satisfied: certifi&gt;=2017.4.17 in /home/ubuntu/.local/lib/python3.10/site-packages (from requests&lt;3,&gt;=2.0.0-&gt;wandb) (2023.11.17)\n",
       "</pre>\n"
      ],
      "text/plain": [
       "Requirement already satisfied: certifi>=2017.4.17 in /home/ubuntu/.local/lib/python3.10/site-packages (from requests<3,>=2.0.0->wandb) (2023.11.17)\n"
      ]
     },
     "metadata": {},
     "output_type": "display_data"
    },
    {
     "data": {
      "text/html": [
       "<pre style=\"white-space:pre;overflow-x:auto;line-height:normal;font-family:Menlo,'DejaVu Sans Mono',consolas,'Courier New',monospace\">Requirement already satisfied: urllib3&lt;3,&gt;=1.21.1 in /home/ubuntu/.local/lib/python3.10/site-packages (from requests&lt;3,&gt;=2.0.0-&gt;wandb) (2.1.0)\n",
       "</pre>\n"
      ],
      "text/plain": [
       "Requirement already satisfied: urllib3<3,>=1.21.1 in /home/ubuntu/.local/lib/python3.10/site-packages (from requests<3,>=2.0.0->wandb) (2.1.0)\n"
      ]
     },
     "metadata": {},
     "output_type": "display_data"
    },
    {
     "data": {
      "text/html": [
       "<pre style=\"white-space:pre;overflow-x:auto;line-height:normal;font-family:Menlo,'DejaVu Sans Mono',consolas,'Courier New',monospace\">Requirement already satisfied: charset-normalizer&lt;4,&gt;=2 in /home/ubuntu/.local/lib/python3.10/site-packages (from requests&lt;3,&gt;=2.0.0-&gt;wandb) (3.3.2)\n",
       "</pre>\n"
      ],
      "text/plain": [
       "Requirement already satisfied: charset-normalizer<4,>=2 in /home/ubuntu/.local/lib/python3.10/site-packages (from requests<3,>=2.0.0->wandb) (3.3.2)\n"
      ]
     },
     "metadata": {},
     "output_type": "display_data"
    },
    {
     "data": {
      "text/html": [
       "<pre style=\"white-space:pre;overflow-x:auto;line-height:normal;font-family:Menlo,'DejaVu Sans Mono',consolas,'Courier New',monospace\">Requirement already satisfied: smmap&lt;6,&gt;=3.0.1 in /home/ubuntu/.local/lib/python3.10/site-packages (from gitdb&lt;5,&gt;=4.0.1-&gt;GitPython!=3.1.29,&gt;=1.0.0-&gt;wandb) (5.0.1)\n",
       "</pre>\n"
      ],
      "text/plain": [
       "Requirement already satisfied: smmap<6,>=3.0.1 in /home/ubuntu/.local/lib/python3.10/site-packages (from gitdb<5,>=4.0.1->GitPython!=3.1.29,>=1.0.0->wandb) (5.0.1)\n"
      ]
     },
     "metadata": {},
     "output_type": "display_data"
    }
   ],
   "source": [
    "import pip\n",
    "\n",
    "def install(package):\n",
    "    if hasattr(pip, 'main'):\n",
    "        pip.main(['install', package])\n",
    "    else:\n",
    "        pip._internal.main(['install', package])\n",
    "        \n",
    "install('wandb')"
   ]
  },
  {
   "cell_type": "code",
   "execution_count": 3,
   "id": "e61d1502",
   "metadata": {},
   "outputs": [],
   "source": [
    "from transformers import (\n",
    "    AutoConfig, \n",
    "    AutoModelForCausalLM, \n",
    "    AutoTokenizer, \n",
    "    default_data_collator,\n",
    "    TrainingArguments,\n",
    "    Trainer,\n",
    "    TrainerCallback\n",
    ")\n",
    "from datasets import load_dataset, load_from_disk\n",
    "\n",
    "import ray\n",
    "from ray import train\n",
    "from ray.train import Checkpoint\n",
    "from ray.train.huggingface import TransformersTrainer\n",
    "from ray.train import ScalingConfig\n",
    "from ray.train.torch import TorchTrainer, get_device\n",
    "from transformers.trainer_utils import get_last_checkpoint\n",
    "import torch\n",
    "from torch.utils.data import DataLoader\n",
    "import numpy as np\n",
    "import os\n",
    "import shutil\n",
    "import wandb\n",
    "\n",
    "wandb_api = wandb.Api()"
   ]
  },
  {
   "cell_type": "code",
   "execution_count": 4,
   "id": "4a7307bd",
   "metadata": {},
   "outputs": [],
   "source": [
    "WANDB_PROJECT = os.environ.get('WANDB_PROJECT', 'run-ray')\n",
    "WANDB_API_KEY = os.environ.get('WANDB_API_KEY', wandb_api.api_key)\n",
    "MINIO = os.environ.get('MINIO', 'http://minio:9000')"
   ]
  },
  {
   "cell_type": "code",
   "execution_count": 5,
   "id": "6d004dce",
   "metadata": {},
   "outputs": [],
   "source": [
    "def train_func(config):\n",
    "    \n",
    "    from streaming.base.format.mds.encodings import Encoding, _encodings\n",
    "    from streaming import StreamingDataset\n",
    "    import streaming\n",
    "    import s3fs\n",
    "    \n",
    "    MINIO = os.environ.get('MINIO', 'http://minio:9000')\n",
    "    fs = s3fs.S3FileSystem(endpoint_url = MINIO, anon = True)\n",
    "    \n",
    "    device = str(get_device()).replace(':', '-')\n",
    "    print(device)\n",
    "\n",
    "    class UInt16(Encoding):\n",
    "        def encode(self, obj) -> bytes:\n",
    "            return obj.tobytes()\n",
    "\n",
    "        def decode(self, data: bytes):\n",
    "            return np.frombuffer(data, np.uint16)\n",
    "\n",
    "    _encodings['uint16'] = UInt16\n",
    "    \n",
    "    class DatasetFixed(torch.utils.data.Dataset):\n",
    "        def __init__(self, local, remote):\n",
    "            \n",
    "            streaming.base.util.clean_stale_shared_memory()\n",
    "            self.dataset = StreamingDataset(local=local, remote = remote, download_timeout = 300)\n",
    "\n",
    "        def __getitem__(self, idx):\n",
    "            data = self.dataset[idx]\n",
    "            data['labels'] = data[\"input_ids\"].copy()\n",
    "            data.pop('token_type_ids', None)\n",
    "            for k in data.keys():\n",
    "                data[k] = data[k].astype(np.int64)\n",
    "            return data\n",
    "\n",
    "        def __len__(self):\n",
    "            return len(self.dataset)\n",
    "    \n",
    "    local = os.path.join('/home/ubuntu/storage', config['local'])\n",
    "    shutil.rmtree(local, ignore_errors = True)\n",
    "    train_dataset = DatasetFixed(local=local, remote=config['remote'])\n",
    "    \n",
    "    # https://github.com/mosaicml/streaming/issues/307#issuecomment-1729829065\n",
    "    def inf_loop_dataloader(dataloader: torch.utils.data.DataLoader):\n",
    "        while True:\n",
    "            for batch in dataloader:\n",
    "                yield batch\n",
    "    dataloader = DataLoader(train_dataset, batch_size=2)\n",
    "    dataset_iterator = iter(inf_loop_dataloader(dataloader))\n",
    "    batch = next(iter(dataset_iterator))\n",
    "\n",
    "#     train_dataset = load_from_disk('s3://train/wiki-test', \n",
    "#                                  storage_options=fs.storage_options, \n",
    "#                                  keep_in_memory = False)\n",
    "    \n",
    "    MODEL_NAME = \"gpt2\"\n",
    "    model = AutoModelForCausalLM.from_pretrained(MODEL_NAME)\n",
    "    directory = f'{MODEL_NAME}-test'\n",
    "    \n",
    "    output_dir = os.path.join('/home/ubuntu/storage', directory)\n",
    "    output_temp = os.path.join('/home/ubuntu/storage', 'temp' + device)\n",
    "    s3_bucket = 'train'\n",
    "    s3_output_dir = os.path.join(s3_bucket, directory)\n",
    "    \n",
    "    args = TrainingArguments(\n",
    "        output_dir=output_dir,\n",
    "        save_strategy=\"steps\",\n",
    "        logging_strategy=\"steps\",\n",
    "        learning_rate=2e-5,\n",
    "        weight_decay=0.01,\n",
    "        max_steps=10000,\n",
    "        save_steps = 100,\n",
    "        save_total_limit = 2,\n",
    "        logging_steps = 1,\n",
    "        per_device_train_batch_size = 6,\n",
    "    )\n",
    "\n",
    "    trainer = Trainer(\n",
    "        model=model,\n",
    "        args=args,\n",
    "        train_dataset=train_dataset,\n",
    "        data_collator=default_data_collator,\n",
    "    )\n",
    "    \n",
    "    \n",
    "    class S3Callback(TrainerCallback):\n",
    "        def on_save(self, args, state, control, **kwargs):\n",
    "            fs.delete(s3_output_dir)\n",
    "            fs.put(output_dir, s3_bucket, recursive=True)\n",
    "        \n",
    "    trainer.add_callback(S3Callback())\n",
    "    \n",
    "    checkpoints = []\n",
    "    try:\n",
    "        checkpoints = fs.ls(s3_output_dir)\n",
    "        checkpoints = [f for f in checkpoints if 'checkpoint-' in f]\n",
    "        checkpoints = sorted(checkpoints, key = lambda x: int(x.split('-')[-1]))\n",
    "    except:\n",
    "        pass\n",
    "    \n",
    "    if len(checkpoints):\n",
    "        checkpoint = checkpoints[-1]\n",
    "        print(f'load checkpoint from {checkpoint} into {output_temp}')\n",
    "        shutil.rmtree(output_temp, ignore_errors = True)\n",
    "        fs.get(checkpoint, output_temp, recursive = True)\n",
    "        trainer.train(resume_from_checkpoint=output_temp)\n",
    "    else:\n",
    "        trainer.train()"
   ]
  },
  {
   "cell_type": "code",
   "execution_count": 6,
   "id": "28bd346d",
   "metadata": {},
   "outputs": [],
   "source": [
    "runtime_env = {\n",
    "    'pip': ['wandb', 's3fs', 'mosaicml-streaming'],\n",
    "    'env_vars': {\n",
    "        'WANDB_PROJECT': WANDB_PROJECT,\n",
    "        'WANDB_API_KEY': WANDB_API_KEY,\n",
    "        'S3_ENDPOINT_URL': MINIO,\n",
    "        'MINIO': MINIO,\n",
    "    }\n",
    "}"
   ]
  },
  {
   "cell_type": "code",
   "execution_count": 7,
   "id": "7715caae",
   "metadata": {},
   "outputs": [],
   "source": [
    "class RayConnection:\n",
    "    def __init__(self, address, **kwargs):\n",
    "        ray.init(address=address, **kwargs)\n",
    "\n",
    "    def __enter__(self):\n",
    "        return self\n",
    "\n",
    "    def __exit__(self, typ, value, traceback):\n",
    "        ray.shutdown()"
   ]
  },
  {
   "cell_type": "code",
   "execution_count": null,
   "id": "d367532f",
   "metadata": {},
   "outputs": [
    {
     "data": {
      "text/html": [],
      "text/plain": [
       "<IPython.core.display.HTML object>"
      ]
     },
     "metadata": {},
     "output_type": "display_data"
    },
    {
     "name": "stderr",
     "output_type": "stream",
     "text": [
      "\u001b[36m(TunerInternal pid=33311)\u001b[0m [output] This will use the new output engine with verbosity 1. To disable the new output and use the legacy output engine, set the environment variable RAY_AIR_NEW_OUTPUT=0. For more information, please see https://github.com/ray-project/ray/issues/36949\n"
     ]
    },
    {
     "name": "stdout",
     "output_type": "stream",
     "text": [
      "\u001b[36m(TunerInternal pid=33311)\u001b[0m \n",
      "\u001b[36m(TunerInternal pid=33311)\u001b[0m View detailed results here: /home/ubuntu/ray_results/TorchTrainer_2023-11-22_17-57-28\n",
      "\u001b[36m(TunerInternal pid=33311)\u001b[0m To visualize your results with TensorBoard, run: `tensorboard --logdir /home/ubuntu/ray_results/TorchTrainer_2023-11-22_17-57-28`\n"
     ]
    },
    {
     "name": "stderr",
     "output_type": "stream",
     "text": [
      "\u001b[36m(TunerInternal pid=33311)\u001b[0m AIR_VERBOSITY is set, ignoring passed-in ProgressReporter for now.\n"
     ]
    },
    {
     "name": "stdout",
     "output_type": "stream",
     "text": [
      "\u001b[36m(TunerInternal pid=33311)\u001b[0m \n",
      "\u001b[36m(TunerInternal pid=33311)\u001b[0m Training started with configuration:\n",
      "\u001b[36m(TunerInternal pid=33311)\u001b[0m ╭───────────────────────────────────────────────╮\n",
      "\u001b[36m(TunerInternal pid=33311)\u001b[0m │ Training config                               │\n",
      "\u001b[36m(TunerInternal pid=33311)\u001b[0m ├───────────────────────────────────────────────┤\n",
      "\u001b[36m(TunerInternal pid=33311)\u001b[0m │ train_loop_config/local             local_dir │\n",
      "\u001b[36m(TunerInternal pid=33311)\u001b[0m │ train_loop_config/remote   s3://train/indexed │\n",
      "\u001b[36m(TunerInternal pid=33311)\u001b[0m ╰───────────────────────────────────────────────╯\n"
     ]
    },
    {
     "name": "stderr",
     "output_type": "stream",
     "text": [
      "\u001b[36m(TorchTrainer pid=33520)\u001b[0m Starting distributed worker processes: ['33620 (10.208.0.249)', '33621 (10.208.0.249)', '33625 (10.208.0.249)', '33626 (10.208.0.249)', '3487 (10.208.0.238)', '3488 (10.208.0.238)', '3489 (10.208.0.238)', '3490 (10.208.0.238)']\n",
      "\u001b[36m(RayTrainWorker pid=33620)\u001b[0m Setting up process group for: env:// [rank=0, world_size=8]\n"
     ]
    },
    {
     "name": "stdout",
     "output_type": "stream",
     "text": [
      "\u001b[36m(RayTrainWorker pid=3489, ip=10.208.0.238)\u001b[0m cuda-2\n",
      "\u001b[36m(RayTrainWorker pid=3488, ip=10.208.0.238)\u001b[0m cuda-1\n",
      "\u001b[36m(RayTrainWorker pid=3490, ip=10.208.0.238)\u001b[0m cuda-3\n",
      "\u001b[36m(RayTrainWorker pid=3487, ip=10.208.0.238)\u001b[0m cuda-0\n",
      "\u001b[36m(RayTrainWorker pid=33626)\u001b[0m cuda-3\n",
      "\u001b[36m(RayTrainWorker pid=33621)\u001b[0m cuda-1\n",
      "\u001b[36m(RayTrainWorker pid=33625)\u001b[0m cuda-2\n",
      "\u001b[36m(RayTrainWorker pid=33620)\u001b[0m cuda-0\n",
      "\u001b[36m(RayTrainWorker pid=3487, ip=10.208.0.238)\u001b[0m load checkpoint from train/gpt2-test/checkpoint-500 into /home/ubuntu/storage/tempcuda-0\n",
      "\u001b[36m(RayTrainWorker pid=33620)\u001b[0m load checkpoint from train/gpt2-test/checkpoint-500 into /home/ubuntu/storage/tempcuda-0\n",
      "\u001b[36m(RayTrainWorker pid=3489, ip=10.208.0.238)\u001b[0m load checkpoint from train/gpt2-test/checkpoint-500 into /home/ubuntu/storage/tempcuda-2\n",
      "\u001b[36m(RayTrainWorker pid=33621)\u001b[0m load checkpoint from train/gpt2-test/checkpoint-500 into /home/ubuntu/storage/tempcuda-1\n",
      "\u001b[36m(RayTrainWorker pid=33625)\u001b[0m load checkpoint from train/gpt2-test/checkpoint-500 into /home/ubuntu/storage/tempcuda-2\n",
      "\u001b[36m(RayTrainWorker pid=3488, ip=10.208.0.238)\u001b[0m load checkpoint from train/gpt2-test/checkpoint-500 into /home/ubuntu/storage/tempcuda-1\n",
      "\u001b[36m(RayTrainWorker pid=3490, ip=10.208.0.238)\u001b[0m load checkpoint from train/gpt2-test/checkpoint-500 into /home/ubuntu/storage/tempcuda-3\n",
      "\u001b[36m(RayTrainWorker pid=33626)\u001b[0m load checkpoint from train/gpt2-test/checkpoint-500 into /home/ubuntu/storage/tempcuda-3\n"
     ]
    },
    {
     "name": "stderr",
     "output_type": "stream",
     "text": [
      "\u001b[36m(RayTrainWorker pid=3488, ip=10.208.0.238)\u001b[0m There were missing keys in the checkpoint model loaded: ['lm_head.weight'].\n",
      "\u001b[36m(RayTrainWorker pid=3490, ip=10.208.0.238)\u001b[0m There were missing keys in the checkpoint model loaded: ['lm_head.weight'].\n",
      "\u001b[36m(RayTrainWorker pid=33620)\u001b[0m There were missing keys in the checkpoint model loaded: ['lm_head.weight'].\n",
      "\u001b[36m(RayTrainWorker pid=33621)\u001b[0m There were missing keys in the checkpoint model loaded: ['lm_head.weight'].\n",
      "\u001b[36m(RayTrainWorker pid=3487, ip=10.208.0.238)\u001b[0m There were missing keys in the checkpoint model loaded: ['lm_head.weight'].\n",
      "\u001b[36m(RayTrainWorker pid=3489, ip=10.208.0.238)\u001b[0m There were missing keys in the checkpoint model loaded: ['lm_head.weight'].\n",
      "\u001b[36m(RayTrainWorker pid=33625)\u001b[0m There were missing keys in the checkpoint model loaded: ['lm_head.weight'].\n",
      "\u001b[36m(RayTrainWorker pid=33626)\u001b[0m There were missing keys in the checkpoint model loaded: ['lm_head.weight'].\n",
      "  0%|          | 0/10000 [00:00<?, ?it/s]0.238)\u001b[0m \n",
      "\u001b[36m(RayTrainWorker pid=33620)\u001b[0m wandb: Currently logged in as: husein-mesolitica (mesolitica). Use `wandb login --relogin` to force relogin\n",
      "\u001b[36m(RayTrainWorker pid=33620)\u001b[0m wandb: Tracking run with wandb version 0.16.0\n",
      "\u001b[36m(RayTrainWorker pid=33620)\u001b[0m wandb: Run data is saved locally in /home/ubuntu/ray_results/TorchTrainer_2023-11-22_17-57-28/TorchTrainer_99c28_00000_0_2023-11-22_17-57-28/wandb/run-20231122_175822-z3f9zg54\n",
      "\u001b[36m(RayTrainWorker pid=33620)\u001b[0m wandb: Run `wandb offline` to turn off syncing.\n",
      "\u001b[36m(RayTrainWorker pid=33620)\u001b[0m wandb: Syncing run polished-armadillo-36\n",
      "\u001b[36m(RayTrainWorker pid=33620)\u001b[0m wandb: ⭐️ View project at https://wandb.ai/mesolitica/run-ray\n",
      "\u001b[36m(RayTrainWorker pid=33620)\u001b[0m wandb: 🚀 View run at https://wandb.ai/mesolitica/run-ray/runs/z3f9zg54\n",
      "  0%|          | 0/10000 [00:00<?, ?it/s]\n",
      "\u001b[36m(RayTrainWorker pid=3488, ip=10.208.0.238)\u001b[0m [W reducer.cpp:1346] Warning: find_unused_parameters=True was specified in DDP constructor, but did not find any unused parameters in the forward pass. This flag results in an extra traversal of the autograd graph every iteration,  which can adversely affect performance. If your model indeed never has any unused parameters in the forward pass, consider turning this flag off. Note that this warning may be a false positive if your model has flow control causing later iterations to have unused parameters. (function operator())\n",
      "\u001b[36m(RayTrainWorker pid=3489, ip=10.208.0.238)\u001b[0m [W reducer.cpp:1346] Warning: find_unused_parameters=True was specified in DDP constructor, but did not find any unused parameters in the forward pass. This flag results in an extra traversal of the autograd graph every iteration,  which can adversely affect performance. If your model indeed never has any unused parameters in the forward pass, consider turning this flag off. Note that this warning may be a false positive if your model has flow control causing later iterations to have unused parameters. (function operator())\n",
      "\u001b[36m(RayTrainWorker pid=3487, ip=10.208.0.238)\u001b[0m [W reducer.cpp:1346] Warning: find_unused_parameters=True was specified in DDP constructor, but did not find any unused parameters in the forward pass. This flag results in an extra traversal of the autograd graph every iteration,  which can adversely affect performance. If your model indeed never has any unused parameters in the forward pass, consider turning this flag off. Note that this warning may be a false positive if your model has flow control causing later iterations to have unused parameters. (function operator())\n",
      "\u001b[36m(RayTrainWorker pid=33621)\u001b[0m [W reducer.cpp:1346] Warning: find_unused_parameters=True was specified in DDP constructor, but did not find any unused parameters in the forward pass. This flag results in an extra traversal of the autograd graph every iteration,  which can adversely affect performance. If your model indeed never has any unused parameters in the forward pass, consider turning this flag off. Note that this warning may be a false positive if your model has flow control causing later iterations to have unused parameters. (function operator())\n",
      "\u001b[36m(RayTrainWorker pid=33625)\u001b[0m [W reducer.cpp:1346] Warning: find_unused_parameters=True was specified in DDP constructor, but did not find any unused parameters in the forward pass. This flag results in an extra traversal of the autograd graph every iteration,  which can adversely affect performance. If your model indeed never has any unused parameters in the forward pass, consider turning this flag off. Note that this warning may be a false positive if your model has flow control causing later iterations to have unused parameters. (function operator())\n",
      "\u001b[36m(RayTrainWorker pid=33620)\u001b[0m [W reducer.cpp:1346] Warning: find_unused_parameters=True was specified in DDP constructor, but did not find any unused parameters in the forward pass. This flag results in an extra traversal of the autograd graph every iteration,  which can adversely affect performance. If your model indeed never has any unused parameters in the forward pass, consider turning this flag off. Note that this warning may be a false positive if your model has flow control causing later iterations to have unused parameters. (function operator())\n",
      "\u001b[36m(RayTrainWorker pid=33626)\u001b[0m [W reducer.cpp:1346] Warning: find_unused_parameters=True was specified in DDP constructor, but did not find any unused parameters in the forward pass. This flag results in an extra traversal of the autograd graph every iteration,  which can adversely affect performance. If your model indeed never has any unused parameters in the forward pass, consider turning this flag off. Note that this warning may be a false positive if your model has flow control causing later iterations to have unused parameters. (function operator())\n",
      "\u001b[36m(RayTrainWorker pid=3490, ip=10.208.0.238)\u001b[0m [W reducer.cpp:1346] Warning: find_unused_parameters=True was specified in DDP constructor, but did not find any unused parameters in the forward pass. This flag results in an extra traversal of the autograd graph every iteration,  which can adversely affect performance. If your model indeed never has any unused parameters in the forward pass, consider turning this flag off. Note that this warning may be a false positive if your model has flow control causing later iterations to have unused parameters. (function operator())\n",
      "  5%|▌         | 501/10000 [00:01<00:23, 404.00it/s]\n",
      "  5%|▌         | 501/10000 [00:02<00:51, 182.91it/s]\n",
      "  5%|▌         | 501/10000 [00:01<00:23, 404.00it/s]\n"
     ]
    },
    {
     "name": "stdout",
     "output_type": "stream",
     "text": [
      "\u001b[36m(RayTrainWorker pid=3487, ip=10.208.0.238)\u001b[0m {'loss': 7.1623, 'learning_rate': 1.8998e-05, 'epoch': 0.77}\n",
      "\u001b[36m(RayTrainWorker pid=33620)\u001b[0m {'loss': 7.1623, 'learning_rate': 1.8998e-05, 'epoch': 0.77}\n"
     ]
    },
    {
     "name": "stderr",
     "output_type": "stream",
     "text": [
      "  5%|▌         | 502/10000 [00:01<00:23, 404.00it/s]\n",
      "  5%|▌         | 502/10000 [00:03<00:51, 182.91it/s]\n"
     ]
    },
    {
     "name": "stdout",
     "output_type": "stream",
     "text": [
      "\u001b[36m(RayTrainWorker pid=33620)\u001b[0m {'loss': 7.17, 'learning_rate': 1.8996000000000002e-05, 'epoch': 0.77}\n",
      "\u001b[36m(RayTrainWorker pid=3487, ip=10.208.0.238)\u001b[0m {'loss': 7.17, 'learning_rate': 1.8996000000000002e-05, 'epoch': 0.77}\n"
     ]
    },
    {
     "name": "stderr",
     "output_type": "stream",
     "text": [
      "  5%|▌         | 503/10000 [00:02<00:23, 404.00it/s]\n",
      "  5%|▌         | 503/10000 [00:04<00:51, 182.91it/s]\n"
     ]
    },
    {
     "name": "stdout",
     "output_type": "stream",
     "text": [
      "\u001b[36m(RayTrainWorker pid=33620)\u001b[0m {'loss': 7.1151, 'learning_rate': 1.8994e-05, 'epoch': 0.77}\n",
      "\u001b[36m(RayTrainWorker pid=3487, ip=10.208.0.238)\u001b[0m {'loss': 7.1151, 'learning_rate': 1.8994e-05, 'epoch': 0.77}\n",
      "\u001b[36m(RayTrainWorker pid=3487, ip=10.208.0.238)\u001b[0m {'loss': 7.2032, 'learning_rate': 1.8992e-05, 'epoch': 0.78}\n",
      "\u001b[36m(RayTrainWorker pid=33620)\u001b[0m {'loss': 7.2032, 'learning_rate': 1.8992e-05, 'epoch': 0.78}\n"
     ]
    },
    {
     "name": "stderr",
     "output_type": "stream",
     "text": [
      "  5%|▌         | 504/10000 [00:04<00:51, 182.91it/s]\n",
      "  5%|▌         | 504/10000 [00:03<00:23, 404.00it/s]\n"
     ]
    },
    {
     "name": "stdout",
     "output_type": "stream",
     "text": [
      "\u001b[36m(RayTrainWorker pid=3487, ip=10.208.0.238)\u001b[0m {'loss': 7.389, 'learning_rate': 1.8990000000000003e-05, 'epoch': 0.78}\n",
      "\u001b[36m(RayTrainWorker pid=33620)\u001b[0m {'loss': 7.389, 'learning_rate': 1.8990000000000003e-05, 'epoch': 0.78}\n"
     ]
    },
    {
     "name": "stderr",
     "output_type": "stream",
     "text": [
      "  5%|▌         | 505/10000 [00:05<00:51, 182.91it/s]\n",
      "  5%|▌         | 505/10000 [00:03<00:23, 404.00it/s]\n",
      "  5%|▌         | 506/10000 [00:04<00:23, 404.00it/s]\n",
      "  5%|▌         | 506/10000 [00:06<00:51, 182.91it/s]\n"
     ]
    },
    {
     "name": "stdout",
     "output_type": "stream",
     "text": [
      "\u001b[36m(RayTrainWorker pid=33620)\u001b[0m {'loss': 7.3192, 'learning_rate': 1.8988000000000002e-05, 'epoch': 0.78}\n",
      "\u001b[36m(RayTrainWorker pid=3487, ip=10.208.0.238)\u001b[0m {'loss': 7.3192, 'learning_rate': 1.8988000000000002e-05, 'epoch': 0.78}\n",
      "\u001b[36m(RayTrainWorker pid=3487, ip=10.208.0.238)\u001b[0m {'loss': 7.1087, 'learning_rate': 1.8986e-05, 'epoch': 0.78}\n",
      "\u001b[36m(RayTrainWorker pid=33620)\u001b[0m {'loss': 7.1087, 'learning_rate': 1.8986e-05, 'epoch': 0.78}\n"
     ]
    },
    {
     "name": "stderr",
     "output_type": "stream",
     "text": [
      "  5%|▌         | 507/10000 [00:06<00:51, 182.91it/s]\n",
      "  5%|▌         | 507/10000 [00:05<00:23, 404.00it/s]\n"
     ]
    },
    {
     "name": "stdout",
     "output_type": "stream",
     "text": [
      "\u001b[36m(RayTrainWorker pid=3487, ip=10.208.0.238)\u001b[0m {'loss': 7.2713, 'learning_rate': 1.8984000000000003e-05, 'epoch': 0.78}\n",
      "\u001b[36m(RayTrainWorker pid=33620)\u001b[0m {'loss': 7.2713, 'learning_rate': 1.8984000000000003e-05, 'epoch': 0.78}\n"
     ]
    },
    {
     "name": "stderr",
     "output_type": "stream",
     "text": [
      "  5%|▌         | 508/10000 [00:07<00:51, 182.91it/s]\n",
      "  5%|▌         | 508/10000 [00:06<00:23, 404.00it/s]\n",
      "  5%|▌         | 509/10000 [00:06<00:23, 404.00it/s]\n",
      "  5%|▌         | 509/10000 [00:08<00:51, 182.91it/s]\n"
     ]
    },
    {
     "name": "stdout",
     "output_type": "stream",
     "text": [
      "\u001b[36m(RayTrainWorker pid=33620)\u001b[0m {'loss': 7.3064, 'learning_rate': 1.8982000000000002e-05, 'epoch': 0.78}\n",
      "\u001b[36m(RayTrainWorker pid=3487, ip=10.208.0.238)\u001b[0m {'loss': 7.3064, 'learning_rate': 1.8982000000000002e-05, 'epoch': 0.78}\n"
     ]
    },
    {
     "name": "stderr",
     "output_type": "stream",
     "text": [
      "  5%|▌         | 510/10000 [00:07<00:23, 404.00it/s]\n",
      "  5%|▌         | 510/10000 [00:08<00:51, 182.91it/s]\n"
     ]
    },
    {
     "name": "stdout",
     "output_type": "stream",
     "text": [
      "\u001b[36m(RayTrainWorker pid=33620)\u001b[0m {'loss': 7.2174, 'learning_rate': 1.898e-05, 'epoch': 0.78}\n",
      "\u001b[36m(RayTrainWorker pid=3487, ip=10.208.0.238)\u001b[0m {'loss': 7.2174, 'learning_rate': 1.898e-05, 'epoch': 0.78}\n"
     ]
    },
    {
     "name": "stderr",
     "output_type": "stream",
     "text": [
      "  5%|▌         | 511/10000 [00:08<00:23, 404.00it/s]\n",
      "  5%|▌         | 511/10000 [00:09<00:51, 182.91it/s]\n"
     ]
    },
    {
     "name": "stdout",
     "output_type": "stream",
     "text": [
      "\u001b[36m(RayTrainWorker pid=33620)\u001b[0m {'loss': 7.3534, 'learning_rate': 1.8978e-05, 'epoch': 0.79}\n",
      "\u001b[36m(RayTrainWorker pid=3487, ip=10.208.0.238)\u001b[0m {'loss': 7.3534, 'learning_rate': 1.8978e-05, 'epoch': 0.79}\n",
      "\u001b[36m(RayTrainWorker pid=3487, ip=10.208.0.238)\u001b[0m {'loss': 7.1192, 'learning_rate': 1.8976000000000003e-05, 'epoch': 0.79}\n",
      "\u001b[36m(RayTrainWorker pid=33620)\u001b[0m {'loss': 7.1192, 'learning_rate': 1.8976000000000003e-05, 'epoch': 0.79}\n"
     ]
    },
    {
     "name": "stderr",
     "output_type": "stream",
     "text": [
      "  5%|▌         | 512/10000 [00:10<00:51, 182.91it/s]\n",
      "  5%|▌         | 512/10000 [00:08<00:23, 404.00it/s]\n",
      "  5%|▌         | 513/10000 [00:09<00:23, 404.00it/s]\n",
      "  5%|▌         | 513/10000 [00:11<00:51, 182.91it/s]\n"
     ]
    },
    {
     "name": "stdout",
     "output_type": "stream",
     "text": [
      "\u001b[36m(RayTrainWorker pid=33620)\u001b[0m {'loss': 7.34, 'learning_rate': 1.8974e-05, 'epoch': 0.79}\n",
      "\u001b[36m(RayTrainWorker pid=3487, ip=10.208.0.238)\u001b[0m {'loss': 7.34, 'learning_rate': 1.8974e-05, 'epoch': 0.79}\n"
     ]
    },
    {
     "name": "stderr",
     "output_type": "stream",
     "text": [
      "  5%|▌         | 514/10000 [00:10<00:23, 404.00it/s]\n",
      "  5%|▌         | 514/10000 [00:11<00:51, 182.91it/s]\n"
     ]
    },
    {
     "name": "stdout",
     "output_type": "stream",
     "text": [
      "\u001b[36m(RayTrainWorker pid=33620)\u001b[0m {'loss': 7.1637, 'learning_rate': 1.8972e-05, 'epoch': 0.79}\n",
      "\u001b[36m(RayTrainWorker pid=3487, ip=10.208.0.238)\u001b[0m {'loss': 7.1637, 'learning_rate': 1.8972e-05, 'epoch': 0.79}\n"
     ]
    },
    {
     "name": "stderr",
     "output_type": "stream",
     "text": [
      "  5%|▌         | 515/10000 [00:11<00:23, 404.00it/s]\n",
      "  5%|▌         | 515/10000 [00:12<00:51, 182.91it/s]\n"
     ]
    },
    {
     "name": "stdout",
     "output_type": "stream",
     "text": [
      "\u001b[36m(RayTrainWorker pid=33620)\u001b[0m {'loss': 7.1746, 'learning_rate': 1.8970000000000003e-05, 'epoch': 0.79}\n",
      "\u001b[36m(RayTrainWorker pid=3487, ip=10.208.0.238)\u001b[0m {'loss': 7.1746, 'learning_rate': 1.8970000000000003e-05, 'epoch': 0.79}\n",
      "\u001b[36m(RayTrainWorker pid=3487, ip=10.208.0.238)\u001b[0m {'loss': 7.2902, 'learning_rate': 1.8968000000000002e-05, 'epoch': 0.79}\n",
      "\u001b[36m(RayTrainWorker pid=33620)\u001b[0m {'loss': 7.2902, 'learning_rate': 1.8968000000000002e-05, 'epoch': 0.79}\n"
     ]
    },
    {
     "name": "stderr",
     "output_type": "stream",
     "text": [
      "  5%|▌         | 516/10000 [00:13<00:51, 182.91it/s]\n",
      "  5%|▌         | 516/10000 [00:11<00:23, 404.00it/s]\n"
     ]
    },
    {
     "name": "stdout",
     "output_type": "stream",
     "text": [
      "\u001b[36m(RayTrainWorker pid=3487, ip=10.208.0.238)\u001b[0m {'loss': 7.307, 'learning_rate': 1.8966e-05, 'epoch': 0.8}\n",
      "\u001b[36m(RayTrainWorker pid=33620)\u001b[0m {'loss': 7.307, 'learning_rate': 1.8966e-05, 'epoch': 0.8}\n"
     ]
    },
    {
     "name": "stderr",
     "output_type": "stream",
     "text": [
      "  5%|▌         | 517/10000 [00:14<00:51, 182.91it/s]\n",
      "  5%|▌         | 517/10000 [00:12<00:23, 404.00it/s]\n",
      "  5%|▌         | 518/10000 [00:13<00:23, 404.00it/s]\n",
      "  5%|▌         | 518/10000 [00:14<00:51, 182.91it/s]\n"
     ]
    },
    {
     "name": "stdout",
     "output_type": "stream",
     "text": [
      "\u001b[36m(RayTrainWorker pid=33620)\u001b[0m {'loss': 7.1216, 'learning_rate': 1.8964000000000003e-05, 'epoch': 0.8}\n",
      "\u001b[36m(RayTrainWorker pid=3487, ip=10.208.0.238)\u001b[0m {'loss': 7.1216, 'learning_rate': 1.8964000000000003e-05, 'epoch': 0.8}\n",
      "\u001b[36m(RayTrainWorker pid=3487, ip=10.208.0.238)\u001b[0m {'loss': 7.1898, 'learning_rate': 1.8962000000000002e-05, 'epoch': 0.8}\n",
      "\u001b[36m(RayTrainWorker pid=33620)\u001b[0m {'loss': 7.1898, 'learning_rate': 1.8962000000000002e-05, 'epoch': 0.8}\n"
     ]
    },
    {
     "name": "stderr",
     "output_type": "stream",
     "text": [
      "  5%|▌         | 519/10000 [00:15<00:51, 182.91it/s]\n",
      "  5%|▌         | 519/10000 [00:14<00:23, 404.00it/s]\n"
     ]
    },
    {
     "name": "stdout",
     "output_type": "stream",
     "text": [
      "\u001b[36m(RayTrainWorker pid=3487, ip=10.208.0.238)\u001b[0m {'loss': 7.2323, 'learning_rate': 1.896e-05, 'epoch': 0.8}\n",
      "\u001b[36m(RayTrainWorker pid=33620)\u001b[0m {'loss': 7.2323, 'learning_rate': 1.896e-05, 'epoch': 0.8}\n"
     ]
    },
    {
     "name": "stderr",
     "output_type": "stream",
     "text": [
      "  5%|▌         | 520/10000 [00:16<06:38, 23.78it/s] \n",
      "  5%|▌         | 520/10000 [00:14<00:23, 404.00it/s]\n",
      "  5%|▌         | 521/10000 [00:15<00:23, 404.00it/s]\n",
      "  5%|▌         | 521/10000 [00:17<07:06, 22.24it/s] \n"
     ]
    },
    {
     "name": "stdout",
     "output_type": "stream",
     "text": [
      "\u001b[36m(RayTrainWorker pid=33620)\u001b[0m {'loss': 7.2345, 'learning_rate': 1.8958e-05, 'epoch': 0.8}\n",
      "\u001b[36m(RayTrainWorker pid=3487, ip=10.208.0.238)\u001b[0m {'loss': 7.2345, 'learning_rate': 1.8958e-05, 'epoch': 0.8}\n"
     ]
    },
    {
     "name": "stderr",
     "output_type": "stream",
     "text": [
      "  5%|▌         | 522/10000 [00:16<00:23, 404.00it/s]\n",
      "  5%|▌         | 522/10000 [00:17<07:06, 22.24it/s]\n"
     ]
    },
    {
     "name": "stdout",
     "output_type": "stream",
     "text": [
      "\u001b[36m(RayTrainWorker pid=33620)\u001b[0m {'loss': 7.1486, 'learning_rate': 1.8956e-05, 'epoch': 0.8}\n",
      "\u001b[36m(RayTrainWorker pid=3487, ip=10.208.0.238)\u001b[0m {'loss': 7.1486, 'learning_rate': 1.8956e-05, 'epoch': 0.8}\n",
      "\u001b[36m(RayTrainWorker pid=3487, ip=10.208.0.238)\u001b[0m {'loss': 7.1585, 'learning_rate': 1.8954000000000002e-05, 'epoch': 0.8}\n",
      "\u001b[36m(RayTrainWorker pid=33620)\u001b[0m {'loss': 7.1585, 'learning_rate': 1.8954000000000002e-05, 'epoch': 0.8}\n"
     ]
    },
    {
     "name": "stderr",
     "output_type": "stream",
     "text": [
      "  5%|▌         | 523/10000 [00:18<07:06, 22.24it/s]\n",
      "  5%|▌         | 523/10000 [00:17<00:23, 404.00it/s]\n"
     ]
    },
    {
     "name": "stdout",
     "output_type": "stream",
     "text": [
      "\u001b[36m(RayTrainWorker pid=3487, ip=10.208.0.238)\u001b[0m {'loss': 7.2794, 'learning_rate': 1.8952e-05, 'epoch': 0.81}\n",
      "\u001b[36m(RayTrainWorker pid=33620)\u001b[0m {'loss': 7.2794, 'learning_rate': 1.8952e-05, 'epoch': 0.81}\n"
     ]
    },
    {
     "name": "stderr",
     "output_type": "stream",
     "text": [
      "  5%|▌         | 524/10000 [00:19<07:06, 22.24it/s]\n",
      "  5%|▌         | 524/10000 [00:18<00:23, 404.00it/s]\n"
     ]
    },
    {
     "name": "stdout",
     "output_type": "stream",
     "text": [
      "\u001b[36m(RayTrainWorker pid=3487, ip=10.208.0.238)\u001b[0m {'loss': 7.2378, 'learning_rate': 1.8950000000000003e-05, 'epoch': 0.81}\n",
      "\u001b[36m(RayTrainWorker pid=33620)\u001b[0m {'loss': 7.2378, 'learning_rate': 1.8950000000000003e-05, 'epoch': 0.81}\n"
     ]
    },
    {
     "name": "stderr",
     "output_type": "stream",
     "text": [
      "  5%|▌         | 525/10000 [00:20<07:06, 22.24it/s] \n",
      "  5%|▌         | 525/10000 [00:18<00:23, 404.00it/s]\n",
      "  5%|▌         | 526/10000 [00:19<00:23, 404.00it/s]\n",
      "  5%|▌         | 526/10000 [00:21<07:05, 22.24it/s] \n"
     ]
    },
    {
     "name": "stdout",
     "output_type": "stream",
     "text": [
      "\u001b[36m(RayTrainWorker pid=33620)\u001b[0m {'loss': 7.1505, 'learning_rate': 1.8948000000000002e-05, 'epoch': 0.81}\n",
      "\u001b[36m(RayTrainWorker pid=3487, ip=10.208.0.238)\u001b[0m {'loss': 7.1505, 'learning_rate': 1.8948000000000002e-05, 'epoch': 0.81}\n"
     ]
    },
    {
     "name": "stderr",
     "output_type": "stream",
     "text": [
      "  5%|▌         | 526/10000 [00:20<00:23, 404.00it/s]\n"
     ]
    },
    {
     "name": "stdout",
     "output_type": "stream",
     "text": [
      "\u001b[36m(RayTrainWorker pid=3487, ip=10.208.0.238)\u001b[0m {'loss': 7.1301, 'learning_rate': 1.8946e-05, 'epoch': 0.81}\n",
      "\u001b[36m(RayTrainWorker pid=33620)\u001b[0m {'loss': 7.1301, 'learning_rate': 1.8946e-05, 'epoch': 0.81}\n"
     ]
    },
    {
     "name": "stderr",
     "output_type": "stream",
     "text": [
      "  5%|▌         | 527/10000 [00:22<07:05, 22.24it/s] \n",
      "  5%|▌         | 527/10000 [00:20<08:26, 18.70it/s] \n",
      "  5%|▌         | 528/10000 [00:21<08:53, 17.76it/s]\n",
      "  5%|▌         | 528/10000 [00:22<07:05, 22.24it/s] \n"
     ]
    },
    {
     "name": "stdout",
     "output_type": "stream",
     "text": [
      "\u001b[36m(RayTrainWorker pid=33620)\u001b[0m {'loss': 7.3755, 'learning_rate': 1.8944000000000004e-05, 'epoch': 0.81}\n",
      "\u001b[36m(RayTrainWorker pid=3487, ip=10.208.0.238)\u001b[0m {'loss': 7.3755, 'learning_rate': 1.8944000000000004e-05, 'epoch': 0.81}\n",
      "\u001b[36m(RayTrainWorker pid=3487, ip=10.208.0.238)\u001b[0m {'loss': 7.2046, 'learning_rate': 1.8942000000000003e-05, 'epoch': 0.81}\n",
      "\u001b[36m(RayTrainWorker pid=33620)\u001b[0m {'loss': 7.2046, 'learning_rate': 1.8942000000000003e-05, 'epoch': 0.81}\n"
     ]
    },
    {
     "name": "stderr",
     "output_type": "stream",
     "text": [
      "  5%|▌         | 529/10000 [00:23<11:58, 13.18it/s]\n",
      "  5%|▌         | 529/10000 [00:21<08:53, 17.76it/s]\n"
     ]
    },
    {
     "name": "stdout",
     "output_type": "stream",
     "text": [
      "\u001b[36m(RayTrainWorker pid=3487, ip=10.208.0.238)\u001b[0m {'loss': 7.1236, 'learning_rate': 1.894e-05, 'epoch': 0.82}\n",
      "\u001b[36m(RayTrainWorker pid=33620)\u001b[0m {'loss': 7.1236, 'learning_rate': 1.894e-05, 'epoch': 0.82}\n"
     ]
    },
    {
     "name": "stderr",
     "output_type": "stream",
     "text": [
      "  5%|▌         | 530/10000 [00:24<11:58, 13.18it/s] \n",
      "  5%|▌         | 530/10000 [00:22<08:53, 17.76it/s]\n",
      "  5%|▌         | 531/10000 [00:23<08:53, 17.76it/s]\n",
      "  5%|▌         | 531/10000 [00:24<11:58, 13.18it/s] \n"
     ]
    },
    {
     "name": "stdout",
     "output_type": "stream",
     "text": [
      "\u001b[36m(RayTrainWorker pid=33620)\u001b[0m {'loss': 7.1462, 'learning_rate': 1.8938e-05, 'epoch': 0.82}\n",
      "\u001b[36m(RayTrainWorker pid=3487, ip=10.208.0.238)\u001b[0m {'loss': 7.1462, 'learning_rate': 1.8938e-05, 'epoch': 0.82}\n",
      "\u001b[36m(RayTrainWorker pid=3487, ip=10.208.0.238)\u001b[0m {'loss': 7.2004, 'learning_rate': 1.8936e-05, 'epoch': 0.82}\n",
      "\u001b[36m(RayTrainWorker pid=33620)\u001b[0m {'loss': 7.2004, 'learning_rate': 1.8936e-05, 'epoch': 0.82}\n"
     ]
    },
    {
     "name": "stderr",
     "output_type": "stream",
     "text": [
      "  5%|▌         | 532/10000 [00:25<11:58, 13.18it/s] \n",
      "  5%|▌         | 532/10000 [00:23<08:52, 17.76it/s]\n",
      "  5%|▌         | 533/10000 [00:24<08:52, 17.76it/s]\n",
      "  5%|▌         | 533/10000 [00:26<11:58, 13.18it/s] \n"
     ]
    },
    {
     "name": "stdout",
     "output_type": "stream",
     "text": [
      "\u001b[36m(RayTrainWorker pid=33620)\u001b[0m {'loss': 7.2413, 'learning_rate': 1.8934000000000002e-05, 'epoch': 0.82}\n",
      "\u001b[36m(RayTrainWorker pid=3487, ip=10.208.0.238)\u001b[0m {'loss': 7.2413, 'learning_rate': 1.8934000000000002e-05, 'epoch': 0.82}\n"
     ]
    },
    {
     "name": "stderr",
     "output_type": "stream",
     "text": [
      "  5%|▌         | 534/10000 [00:25<08:52, 17.76it/s]\n",
      "  5%|▌         | 534/10000 [00:26<15:24, 10.24it/s]\n"
     ]
    },
    {
     "name": "stdout",
     "output_type": "stream",
     "text": [
      "\u001b[36m(RayTrainWorker pid=33620)\u001b[0m {'loss': 7.2863, 'learning_rate': 1.8932e-05, 'epoch': 0.82}\n",
      "\u001b[36m(RayTrainWorker pid=3487, ip=10.208.0.238)\u001b[0m {'loss': 7.2863, 'learning_rate': 1.8932e-05, 'epoch': 0.82}\n",
      "\u001b[36m(RayTrainWorker pid=3487, ip=10.208.0.238)\u001b[0m {'loss': 7.1856, 'learning_rate': 1.893e-05, 'epoch': 0.82}\n",
      "\u001b[36m(RayTrainWorker pid=33620)\u001b[0m {'loss': 7.1856, 'learning_rate': 1.893e-05, 'epoch': 0.82}\n"
     ]
    },
    {
     "name": "stderr",
     "output_type": "stream",
     "text": [
      "  5%|▌         | 535/10000 [00:27<15:24, 10.24it/s]\n",
      "  5%|▌         | 535/10000 [00:25<08:52, 17.76it/s]\n"
     ]
    },
    {
     "name": "stdout",
     "output_type": "stream",
     "text": [
      "\u001b[36m(RayTrainWorker pid=3487, ip=10.208.0.238)\u001b[0m {'loss': 7.1349, 'learning_rate': 1.8928000000000002e-05, 'epoch': 0.82}\n",
      "\u001b[36m(RayTrainWorker pid=33620)\u001b[0m {'loss': 7.1349, 'learning_rate': 1.8928000000000002e-05, 'epoch': 0.82}\n"
     ]
    },
    {
     "name": "stderr",
     "output_type": "stream",
     "text": [
      "  5%|▌         | 536/10000 [00:27<15:24, 10.24it/s] \n",
      "  5%|▌         | 536/10000 [00:26<08:52, 17.76it/s]\n",
      "  5%|▌         | 537/10000 [00:26<08:52, 17.76it/s]\n",
      "  5%|▌         | 537/10000 [00:28<17:37,  8.95it/s] \n"
     ]
    },
    {
     "name": "stdout",
     "output_type": "stream",
     "text": [
      "\u001b[36m(RayTrainWorker pid=33620)\u001b[0m {'loss': 7.2981, 'learning_rate': 1.8926e-05, 'epoch': 0.83}\n",
      "\u001b[36m(RayTrainWorker pid=3487, ip=10.208.0.238)\u001b[0m {'loss': 7.2981, 'learning_rate': 1.8926e-05, 'epoch': 0.83}\n"
     ]
    },
    {
     "name": "stderr",
     "output_type": "stream",
     "text": [
      "  5%|▌         | 538/10000 [00:27<08:52, 17.76it/s]\n",
      "  5%|▌         | 538/10000 [00:29<17:37,  8.95it/s]\n"
     ]
    },
    {
     "name": "stdout",
     "output_type": "stream",
     "text": [
      "\u001b[36m(RayTrainWorker pid=33620)\u001b[0m {'loss': 7.083, 'learning_rate': 1.8924000000000004e-05, 'epoch': 0.83}\n",
      "\u001b[36m(RayTrainWorker pid=3487, ip=10.208.0.238)\u001b[0m {'loss': 7.083, 'learning_rate': 1.8924000000000004e-05, 'epoch': 0.83}\n",
      "\u001b[36m(RayTrainWorker pid=3487, ip=10.208.0.238)\u001b[0m {'loss': 7.2628, 'learning_rate': 1.8922000000000003e-05, 'epoch': 0.83}\n",
      "\u001b[36m(RayTrainWorker pid=33620)\u001b[0m {'loss': 7.2628, 'learning_rate': 1.8922000000000003e-05, 'epoch': 0.83}\n"
     ]
    },
    {
     "name": "stderr",
     "output_type": "stream",
     "text": [
      "  5%|▌         | 539/10000 [00:30<20:37,  7.65it/s]\n",
      "  5%|▌         | 539/10000 [00:28<08:52, 17.76it/s]\n"
     ]
    },
    {
     "name": "stdout",
     "output_type": "stream",
     "text": [
      "\u001b[36m(RayTrainWorker pid=33620)\u001b[0m {'loss': 7.0872, 'learning_rate': 1.8920000000000002e-05, 'epoch': 0.83}\n",
      "\u001b[36m(RayTrainWorker pid=3487, ip=10.208.0.238)\u001b[0m {'loss': 7.0872, 'learning_rate': 1.8920000000000002e-05, 'epoch': 0.83}\n"
     ]
    },
    {
     "name": "stderr",
     "output_type": "stream",
     "text": [
      "  5%|▌         | 540/10000 [00:29<08:52, 17.76it/s]\n",
      "  5%|▌         | 540/10000 [00:30<20:37,  7.65it/s] \n",
      "  5%|▌         | 541/10000 [00:31<24:12,  6.51it/s] \n",
      "  5%|▌         | 541/10000 [00:30<08:52, 17.76it/s]\n",
      "  5%|▌         | 541/10000 [00:31<24:12,  6.51it/s] \n"
     ]
    },
    {
     "name": "stdout",
     "output_type": "stream",
     "text": [
      "\u001b[36m(RayTrainWorker pid=33620)\u001b[0m {'loss': 7.1142, 'learning_rate': 1.8918e-05, 'epoch': 0.83}\n",
      "\u001b[36m(RayTrainWorker pid=3487, ip=10.208.0.238)\u001b[0m {'loss': 7.1142, 'learning_rate': 1.8918e-05, 'epoch': 0.83}\n"
     ]
    },
    {
     "name": "stderr",
     "output_type": "stream",
     "text": [
      "  5%|▌         | 542/10000 [00:30<08:52, 17.76it/s]\n",
      "  5%|▌         | 542/10000 [00:32<27:11,  5.80it/s]\n"
     ]
    },
    {
     "name": "stdout",
     "output_type": "stream",
     "text": [
      "\u001b[36m(RayTrainWorker pid=33620)\u001b[0m {'loss': 7.2552, 'learning_rate': 1.8916e-05, 'epoch': 0.83}\n",
      "\u001b[36m(RayTrainWorker pid=3487, ip=10.208.0.238)\u001b[0m {'loss': 7.2552, 'learning_rate': 1.8916e-05, 'epoch': 0.83}\n",
      "\u001b[36m(RayTrainWorker pid=3487, ip=10.208.0.238)\u001b[0m {'loss': 7.1712, 'learning_rate': 1.8914000000000002e-05, 'epoch': 0.84}\n",
      "\u001b[36m(RayTrainWorker pid=33620)\u001b[0m {'loss': 7.1712, 'learning_rate': 1.8914000000000002e-05, 'epoch': 0.84}\n"
     ]
    },
    {
     "name": "stderr",
     "output_type": "stream",
     "text": [
      "  5%|▌         | 543/10000 [00:33<31:08,  5.06it/s] \n",
      "  5%|▌         | 543/10000 [00:31<08:52, 17.76it/s]\n",
      "  5%|▌         | 544/10000 [00:32<08:52, 17.76it/s]\n",
      "  5%|▌         | 544/10000 [00:33<34:02,  4.63it/s] \n"
     ]
    },
    {
     "name": "stdout",
     "output_type": "stream",
     "text": [
      "\u001b[36m(RayTrainWorker pid=33620)\u001b[0m {'loss': 7.0801, 'learning_rate': 1.8912e-05, 'epoch': 0.84}\n",
      "\u001b[36m(RayTrainWorker pid=3487, ip=10.208.0.238)\u001b[0m {'loss': 7.0801, 'learning_rate': 1.8912e-05, 'epoch': 0.84}\n"
     ]
    },
    {
     "name": "stderr",
     "output_type": "stream",
     "text": [
      "  5%|▌         | 545/10000 [00:33<17:17,  9.11it/s]\n",
      "  5%|▌         | 545/10000 [00:34<40:07,  3.93it/s]\n"
     ]
    },
    {
     "name": "stdout",
     "output_type": "stream",
     "text": [
      "\u001b[36m(RayTrainWorker pid=33620)\u001b[0m {'loss': 7.1502, 'learning_rate': 1.891e-05, 'epoch': 0.84}\n",
      "\u001b[36m(RayTrainWorker pid=3487, ip=10.208.0.238)\u001b[0m {'loss': 7.1502, 'learning_rate': 1.891e-05, 'epoch': 0.84}\n",
      "\u001b[36m(RayTrainWorker pid=3487, ip=10.208.0.238)\u001b[0m {'loss': 7.1575, 'learning_rate': 1.8908000000000003e-05, 'epoch': 0.84}\n",
      "\u001b[36m(RayTrainWorker pid=33620)\u001b[0m {'loss': 7.1575, 'learning_rate': 1.8908000000000003e-05, 'epoch': 0.84}\n"
     ]
    },
    {
     "name": "stderr",
     "output_type": "stream",
     "text": [
      "  5%|▌         | 546/10000 [00:35<47:32,  3.31it/s]\n",
      "  5%|▌         | 546/10000 [00:33<18:03,  8.73it/s]\n"
     ]
    },
    {
     "name": "stdout",
     "output_type": "stream",
     "text": [
      "\u001b[36m(RayTrainWorker pid=3487, ip=10.208.0.238)\u001b[0m {'loss': 7.2535, 'learning_rate': 1.8906e-05, 'epoch': 0.84}\n",
      "\u001b[36m(RayTrainWorker pid=33620)\u001b[0m {'loss': 7.2535, 'learning_rate': 1.8906e-05, 'epoch': 0.84}\n"
     ]
    },
    {
     "name": "stderr",
     "output_type": "stream",
     "text": [
      "  5%|▌         | 547/10000 [00:36<56:15,  2.80it/s] \n",
      "  5%|▌         | 547/10000 [00:34<18:03,  8.73it/s]\n",
      "  5%|▌         | 548/10000 [00:35<18:03,  8.73it/s]\n",
      "  5%|▌         | 548/10000 [00:36<1:00:40,  2.60it/s]\n"
     ]
    },
    {
     "name": "stdout",
     "output_type": "stream",
     "text": [
      "\u001b[36m(RayTrainWorker pid=33620)\u001b[0m {'loss': 7.133, 'learning_rate': 1.8904000000000004e-05, 'epoch': 0.84}\n",
      "\u001b[36m(RayTrainWorker pid=3487, ip=10.208.0.238)\u001b[0m {'loss': 7.133, 'learning_rate': 1.8904000000000004e-05, 'epoch': 0.84}\n"
     ]
    },
    {
     "name": "stderr",
     "output_type": "stream",
     "text": [
      "  5%|▌         | 549/10000 [00:37<1:11:12,  2.21it/s]\n",
      "  5%|▌         | 549/10000 [00:36<18:03,  8.73it/s]\n",
      "  5%|▌         | 549/10000 [00:37<1:11:12,  2.21it/s]\n"
     ]
    },
    {
     "name": "stdout",
     "output_type": "stream",
     "text": [
      "\u001b[36m(RayTrainWorker pid=33620)\u001b[0m {'loss': 7.2892, 'learning_rate': 1.8902000000000003e-05, 'epoch': 0.84}\n",
      "\u001b[36m(RayTrainWorker pid=3487, ip=10.208.0.238)\u001b[0m {'loss': 7.2892, 'learning_rate': 1.8902000000000003e-05, 'epoch': 0.84}\n",
      "\u001b[36m(RayTrainWorker pid=3487, ip=10.208.0.238)\u001b[0m {'loss': 7.1592, 'learning_rate': 1.8900000000000002e-05, 'epoch': 0.85}\n",
      "\u001b[36m(RayTrainWorker pid=33620)\u001b[0m {'loss': 7.1592, 'learning_rate': 1.8900000000000002e-05, 'epoch': 0.85}\n"
     ]
    },
    {
     "name": "stderr",
     "output_type": "stream",
     "text": [
      "  6%|▌         | 550/10000 [00:38<1:21:33,  1.93it/s]\n",
      "  6%|▌         | 550/10000 [00:36<18:03,  8.73it/s]\n"
     ]
    },
    {
     "name": "stdout",
     "output_type": "stream",
     "text": [
      "\u001b[36m(RayTrainWorker pid=3487, ip=10.208.0.238)\u001b[0m {'loss': 7.1803, 'learning_rate': 1.8898e-05, 'epoch': 0.85}\n",
      "\u001b[36m(RayTrainWorker pid=33620)\u001b[0m {'loss': 7.1803, 'learning_rate': 1.8898e-05, 'epoch': 0.85}\n"
     ]
    },
    {
     "name": "stderr",
     "output_type": "stream",
     "text": [
      "  6%|▌         | 551/10000 [00:39<1:31:12,  1.73it/s]\n",
      "  6%|▌         | 551/10000 [00:37<18:02,  8.73it/s]\n"
     ]
    }
   ],
   "source": [
    "with RayConnection(\"ray://localhost:10001\", runtime_env=runtime_env):\n",
    "    scaling_config = ScalingConfig(\n",
    "        num_workers=8, \n",
    "        use_gpu=True,\n",
    "    )\n",
    "    run_config = train.RunConfig(failure_config=train.FailureConfig(max_failures=-1))\n",
    "    ray_trainer = TorchTrainer(\n",
    "        train_func,\n",
    "        train_loop_config={\n",
    "            'local': 'local_dir',\n",
    "            'remote': 's3://train/indexed'\n",
    "        },\n",
    "        scaling_config=scaling_config,\n",
    "        run_config=run_config\n",
    "\n",
    "    )\n",
    "    result = ray_trainer.fit()"
   ]
  },
  {
   "cell_type": "code",
   "execution_count": null,
   "id": "d7bf936a",
   "metadata": {},
   "outputs": [],
   "source": []
  }
 ],
 "metadata": {
  "kernelspec": {
   "display_name": "Python 3 (ipykernel)",
   "language": "python",
   "name": "python3"
  },
  "language_info": {
   "codemirror_mode": {
    "name": "ipython",
    "version": 3
   },
   "file_extension": ".py",
   "mimetype": "text/x-python",
   "name": "python",
   "nbconvert_exporter": "python",
   "pygments_lexer": "ipython3",
   "version": "3.10.12"
  }
 },
 "nbformat": 4,
 "nbformat_minor": 5
}
