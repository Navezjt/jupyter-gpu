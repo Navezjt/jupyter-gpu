{
 "cells": [
  {
   "cell_type": "code",
   "execution_count": 1,
   "id": "5d1a5afc",
   "metadata": {},
   "outputs": [],
   "source": [
    "# !pip3 install ray ray[client] --user\n",
    "# !pip3 install datasets --user"
   ]
  },
  {
   "cell_type": "code",
   "execution_count": 2,
   "id": "e1a0a23d",
   "metadata": {},
   "outputs": [
    {
     "name": "stderr",
     "output_type": "stream",
     "text": [
      "/home/jovyan/.local/lib/python3.10/site-packages/torchvision/io/image.py:13: UserWarning: Failed to load image Python extension: 'libc10_cuda.so: cannot open shared object file: No such file or directory'If you don't plan on using image functionality from `torchvision.io`, you can ignore this warning. Otherwise, there might be something wrong with your environment. Did you have `libjpeg` or `libpng` installed before building `torchvision` from source?\n",
      "  warn(\n"
     ]
    }
   ],
   "source": [
    "from transformers import (\n",
    "    AutoConfig, \n",
    "    AutoModelForCausalLM, \n",
    "    AutoTokenizer, \n",
    "    default_data_collator,\n",
    "    TrainingArguments,\n",
    "    Trainer,\n",
    "    TrainerCallback\n",
    ")\n",
    "from datasets import load_dataset, load_from_disk\n",
    "\n",
    "import ray\n",
    "from ray import train\n",
    "from ray.train import Checkpoint\n",
    "from ray.train.huggingface import TransformersTrainer\n",
    "from ray.train import ScalingConfig\n",
    "from ray.train.torch import TorchTrainer\n",
    "from transformers.trainer_utils import get_last_checkpoint\n",
    "from ray.train.huggingface.transformers import RayTrainReportCallback\n",
    "from streaming.base.format.mds.encodings import Encoding, _encodings\n",
    "from streaming import StreamingDataset\n",
    "import streaming\n",
    "import torch\n",
    "import numpy as np\n",
    "import s3fs\n",
    "import os\n",
    "import shutil\n",
    "import wandb\n",
    "\n",
    "wandb_api = wandb.Api()"
   ]
  },
  {
   "cell_type": "code",
   "execution_count": 3,
   "id": "9f941898",
   "metadata": {},
   "outputs": [],
   "source": [
    "WANDB_PROJECT = os.environ.get('WANDB_PROJECT', 'run-ray')\n",
    "WANDB_API_KEY = os.environ.get('WANDB_API_KEY', wandb_api.api_key)\n",
    "MINIO = os.environ.get('MINIO', 'http://minio:9000')"
   ]
  },
  {
   "cell_type": "code",
   "execution_count": 4,
   "id": "ffeb1c9b",
   "metadata": {},
   "outputs": [],
   "source": [
    "fs = s3fs.S3FileSystem(endpoint_url = MINIO, anon = True)"
   ]
  },
  {
   "cell_type": "code",
   "execution_count": 5,
   "id": "f34a0b98",
   "metadata": {},
   "outputs": [
    {
     "data": {
      "text/plain": [
       "['train/gpt2-test/checkpoint-100', 'train/gpt2-test/checkpoint-200']"
      ]
     },
     "execution_count": 5,
     "metadata": {},
     "output_type": "execute_result"
    }
   ],
   "source": [
    "s3_output_dir = 'train/gpt2-test'\n",
    "checkpoints = fs.ls(s3_output_dir)\n",
    "checkpoints = [f for f in checkpoints if 'checkpoint-' in f]\n",
    "checkpoints = sorted(checkpoints, key = lambda x: int(x.split('-')[-1]))\n",
    "checkpoints"
   ]
  },
  {
   "cell_type": "code",
   "execution_count": 6,
   "id": "54602cc1",
   "metadata": {},
   "outputs": [
    {
     "data": {
      "text/plain": [
       "[None, None, None, None, None, None, None, None, None, None]"
      ]
     },
     "execution_count": 6,
     "metadata": {},
     "output_type": "execute_result"
    }
   ],
   "source": [
    "output_temp = '/home/jovyan/temp'\n",
    "checkpoint = checkpoints[-1]\n",
    "shutil.rmtree(output_temp, ignore_errors = True)\n",
    "fs.get(checkpoint, output_temp, recursive = True)"
   ]
  },
  {
   "cell_type": "code",
   "execution_count": 7,
   "id": "47d560fd",
   "metadata": {},
   "outputs": [],
   "source": [
    "def train_func(config):\n",
    "    \n",
    "    MINIO = os.environ.get('MINIO', 'http://minio:9000')\n",
    "    fs = s3fs.S3FileSystem(endpoint_url = MINIO, anon = True)\n",
    "\n",
    "    class UInt16(Encoding):\n",
    "        def encode(self, obj) -> bytes:\n",
    "            return obj.tobytes()\n",
    "\n",
    "        def decode(self, data: bytes):\n",
    "            return np.frombuffer(data, np.uint16)\n",
    "\n",
    "    _encodings['uint16'] = UInt16\n",
    "    \n",
    "    class DatasetFixed(torch.utils.data.Dataset):\n",
    "        def __init__(self, local, remote):\n",
    "            \n",
    "            streaming.base.util.clean_stale_shared_memory()\n",
    "            self.dataset = StreamingDataset(local=local, remote = remote)\n",
    "\n",
    "        def __getitem__(self, idx):\n",
    "            data = self.dataset[idx]\n",
    "            data['labels'] = data[\"input_ids\"].copy()\n",
    "            data.pop('token_type_ids', None)\n",
    "            for k in data.keys():\n",
    "                data[k] = data[k].astype(np.int64)\n",
    "            return data\n",
    "\n",
    "        def __len__(self):\n",
    "            return len(self.dataset)\n",
    "\n",
    "    train_dataset = DatasetFixed(local=config['local'], remote=config['remote'])\n",
    "    \n",
    "    MODEL_NAME = \"gpt2\"\n",
    "    model = AutoModelForCausalLM.from_pretrained(MODEL_NAME)\n",
    "    directory = f'{MODEL_NAME}-test'\n",
    "    \n",
    "    output_dir = os.path.join('/home/ubuntu/storage', directory)\n",
    "    output_temp = os.path.join('/home/ubuntu/storage', 'temp')\n",
    "    s3_bucket = 'train'\n",
    "    s3_output_dir = os.path.join(s3_bucket, directory)\n",
    "    \n",
    "    args = TrainingArguments(\n",
    "        output_dir=output_dir,\n",
    "        save_strategy=\"steps\",\n",
    "        logging_strategy=\"steps\",\n",
    "        learning_rate=2e-5,\n",
    "        weight_decay=0.01,\n",
    "        max_steps=10000,\n",
    "        save_steps = 100,\n",
    "        save_total_limit = 2,\n",
    "        logging_steps = 1,\n",
    "        per_device_train_batch_size = 6,\n",
    "    )\n",
    "\n",
    "    trainer = Trainer(\n",
    "        model=model,\n",
    "        args=args,\n",
    "        train_dataset=train_dataset,\n",
    "        data_collator=default_data_collator,\n",
    "    )\n",
    "    \n",
    "    \n",
    "    class S3Callback(TrainerCallback):\n",
    "        def on_save(self, args, state, control, **kwargs):\n",
    "            fs.delete(s3_output_dir)\n",
    "            fs.put(output_dir, s3_bucket, recursive=True)\n",
    "        \n",
    "    trainer.add_callback(S3Callback())\n",
    "    \n",
    "    checkpoints = []\n",
    "    try:\n",
    "        checkpoints = fs.ls(s3_output_dir)\n",
    "        checkpoints = [f for f in checkpoints if 'checkpoint-' in f]\n",
    "        checkpoints = sorted(checkpoints, key = lambda x: int(x.split('-')[-1]))\n",
    "    except:\n",
    "        pass\n",
    "    \n",
    "    if len(checkpoints):\n",
    "        checkpoint = checkpoints[-1]\n",
    "        print(f'load checkpoint from {checkpoint}')\n",
    "        shutil.rmtree(output_temp, ignore_errors = True)\n",
    "        fs.get(checkpoint, output_temp, recursive = True)\n",
    "        trainer.train(resume_from_checkpoint=output_temp)\n",
    "    else:\n",
    "        trainer.train()"
   ]
  },
  {
   "cell_type": "code",
   "execution_count": 8,
   "id": "3a121f35",
   "metadata": {},
   "outputs": [],
   "source": [
    "runtime_env = {\n",
    "    'pip': ['wandb', 's3fs', 'mosaicml-streaming'],\n",
    "    'env_vars': {\n",
    "        'WANDB_PROJECT': WANDB_PROJECT,\n",
    "        'WANDB_API_KEY': WANDB_API_KEY,\n",
    "        'S3_ENDPOINT_URL': MINIO,\n",
    "        'MINIO': MINIO,\n",
    "    }\n",
    "}"
   ]
  },
  {
   "cell_type": "code",
   "execution_count": 9,
   "id": "1103b9a5",
   "metadata": {},
   "outputs": [],
   "source": [
    "class RayConnection:\n",
    "    def __init__(self, address, **kwargs):\n",
    "        ray.init(address=address, **kwargs)\n",
    "\n",
    "    def __enter__(self):\n",
    "        return self\n",
    "\n",
    "    def __exit__(self, typ, value, traceback):\n",
    "        ray.shutdown()"
   ]
  },
  {
   "cell_type": "code",
   "execution_count": null,
   "id": "d2144c21",
   "metadata": {},
   "outputs": [
    {
     "data": {
      "text/html": [],
      "text/plain": [
       "<IPython.core.display.HTML object>"
      ]
     },
     "metadata": {},
     "output_type": "display_data"
    },
    {
     "name": "stderr",
     "output_type": "stream",
     "text": [
      "\u001b[36m(TunerInternal pid=26850)\u001b[0m [output] This will use the new output engine with verbosity 1. To disable the new output and use the legacy output engine, set the environment variable RAY_AIR_NEW_OUTPUT=0. For more information, please see https://github.com/ray-project/ray/issues/36949\n"
     ]
    },
    {
     "name": "stdout",
     "output_type": "stream",
     "text": [
      "\u001b[36m(TunerInternal pid=26850)\u001b[0m \n",
      "\u001b[36m(TunerInternal pid=26850)\u001b[0m View detailed results here: /home/ubuntu/ray_results/TorchTrainer_2023-11-22_07-45-45\n",
      "\u001b[36m(TunerInternal pid=26850)\u001b[0m To visualize your results with TensorBoard, run: `tensorboard --logdir /home/ubuntu/ray_results/TorchTrainer_2023-11-22_07-45-45`\n"
     ]
    },
    {
     "name": "stderr",
     "output_type": "stream",
     "text": [
      "\u001b[36m(TunerInternal pid=26850)\u001b[0m AIR_VERBOSITY is set, ignoring passed-in ProgressReporter for now.\n"
     ]
    },
    {
     "name": "stdout",
     "output_type": "stream",
     "text": [
      "\u001b[36m(TunerInternal pid=26850)\u001b[0m \n",
      "\u001b[36m(TunerInternal pid=26850)\u001b[0m Training started with configuration:\n",
      "\u001b[36m(TunerInternal pid=26850)\u001b[0m ╭───────────────────────────────────────────────╮\n",
      "\u001b[36m(TunerInternal pid=26850)\u001b[0m │ Training config                               │\n",
      "\u001b[36m(TunerInternal pid=26850)\u001b[0m ├───────────────────────────────────────────────┤\n",
      "\u001b[36m(TunerInternal pid=26850)\u001b[0m │ train_loop_config/local             local_dir │\n",
      "\u001b[36m(TunerInternal pid=26850)\u001b[0m │ train_loop_config/remote   s3://train/indexed │\n",
      "\u001b[36m(TunerInternal pid=26850)\u001b[0m ╰───────────────────────────────────────────────╯\n"
     ]
    },
    {
     "name": "stderr",
     "output_type": "stream",
     "text": [
      "\u001b[36m(TorchTrainer pid=3610, ip=10.208.0.196)\u001b[0m Starting distributed worker processes: ['3653 (10.208.0.196)', '27023 (10.208.0.206)']\n",
      "\u001b[36m(RayTrainWorker pid=3653, ip=10.208.0.196)\u001b[0m Setting up process group for: env:// [rank=0, world_size=2]\n"
     ]
    },
    {
     "name": "stdout",
     "output_type": "stream",
     "text": [
      "\u001b[36m(RayTrainWorker pid=27023)\u001b[0m load checkpoint from train/gpt2-test/checkpoint-200\n",
      "\u001b[36m(RayTrainWorker pid=3653, ip=10.208.0.196)\u001b[0m load checkpoint from train/gpt2-test/checkpoint-200\n"
     ]
    },
    {
     "name": "stderr",
     "output_type": "stream",
     "text": [
      "\u001b[36m(RayTrainWorker pid=27023)\u001b[0m There were missing keys in the checkpoint model loaded: ['lm_head.weight'].\n",
      "\u001b[36m(TunerInternal pid=26850)\u001b[0m Trial task failed for trial TorchTrainer_2583a_00000\n",
      "\u001b[36m(TunerInternal pid=26850)\u001b[0m Traceback (most recent call last):\n",
      "\u001b[36m(TunerInternal pid=26850)\u001b[0m   File \"/home/ubuntu/.local/lib/python3.10/site-packages/ray/air/execution/_internal/event_manager.py\", line 110, in resolve_future\n",
      "\u001b[36m(TunerInternal pid=26850)\u001b[0m     result = ray.get(future)\n",
      "\u001b[36m(TunerInternal pid=26850)\u001b[0m   File \"/home/ubuntu/.local/lib/python3.10/site-packages/ray/_private/auto_init_hook.py\", line 24, in auto_init_wrapper\n",
      "\u001b[36m(TunerInternal pid=26850)\u001b[0m     return fn(*args, **kwargs)\n",
      "\u001b[36m(TunerInternal pid=26850)\u001b[0m   File \"/home/ubuntu/.local/lib/python3.10/site-packages/ray/_private/client_mode_hook.py\", line 103, in wrapper\n",
      "\u001b[36m(TunerInternal pid=26850)\u001b[0m     return func(*args, **kwargs)\n",
      "\u001b[36m(TunerInternal pid=26850)\u001b[0m   File \"/home/ubuntu/.local/lib/python3.10/site-packages/ray/_private/worker.py\", line 2563, in get\n",
      "\u001b[36m(TunerInternal pid=26850)\u001b[0m     raise value.as_instanceof_cause()\n",
      "\u001b[36m(TunerInternal pid=26850)\u001b[0m ray.exceptions.RayTaskError(ConnectTimeoutError): \u001b[36mray::TrainTrainable.train()\u001b[39m (pid=3610, ip=10.208.0.196, actor_id=9ba46cc846169511151f48b014000000, repr=TorchTrainer)\n",
      "\u001b[36m(TunerInternal pid=26850)\u001b[0m   File \"/home/ubuntu/.local/lib/python3.10/site-packages/ray/tune/trainable/trainable.py\", line 342, in train\n",
      "\u001b[36m(TunerInternal pid=26850)\u001b[0m     raise skipped from exception_cause(skipped)\n",
      "\u001b[36m(TunerInternal pid=26850)\u001b[0m   File \"/home/ubuntu/.local/lib/python3.10/site-packages/ray/train/_internal/utils.py\", line 43, in check_for_failure\n",
      "\u001b[36m(TunerInternal pid=26850)\u001b[0m     ray.get(object_ref)\n",
      "\u001b[36m(TunerInternal pid=26850)\u001b[0m ray.exceptions.RayTaskError(ConnectTimeoutError): \u001b[36mray::_RayTrainWorker__execute.get_next()\u001b[39m (pid=3653, ip=10.208.0.196, actor_id=b6e39fb1b5407082b2c4c92a14000000, repr=<ray.train._internal.worker_group.RayTrainWorker object at 0x7f1ec5d4abc0>)\n",
      "\u001b[36m(TunerInternal pid=26850)\u001b[0m   File \"/home/ubuntu/.local/lib/python3.10/site-packages/ray/train/_internal/worker_group.py\", line 33, in __execute\n",
      "\u001b[36m(TunerInternal pid=26850)\u001b[0m     raise skipped from exception_cause(skipped)\n",
      "\u001b[36m(TunerInternal pid=26850)\u001b[0m   File \"/home/ubuntu/.local/lib/python3.10/site-packages/ray/train/_internal/utils.py\", line 118, in discard_return_wrapper\n",
      "\u001b[36m(TunerInternal pid=26850)\u001b[0m     train_func(*args, **kwargs)\n",
      "\u001b[36m(TunerInternal pid=26850)\u001b[0m   File \"/tmp/ipykernel_70547/2859795394.py\", line 83, in train_func\n",
      "\u001b[36m(TunerInternal pid=26850)\u001b[0m   File \"/home/ubuntu/.local/lib/python3.10/site-packages/fsspec/asyn.py\", line 118, in wrapper\n",
      "\u001b[36m(TunerInternal pid=26850)\u001b[0m     return sync(self.loop, func, *args, **kwargs)\n",
      "\u001b[36m(TunerInternal pid=26850)\u001b[0m   File \"/home/ubuntu/.local/lib/python3.10/site-packages/fsspec/asyn.py\", line 103, in sync\n",
      "\u001b[36m(TunerInternal pid=26850)\u001b[0m     raise return_result\n",
      "\u001b[36m(TunerInternal pid=26850)\u001b[0m   File \"/home/ubuntu/.local/lib/python3.10/site-packages/fsspec/asyn.py\", line 56, in _runner\n",
      "\u001b[36m(TunerInternal pid=26850)\u001b[0m     result[0] = await coro\n",
      "\u001b[36m(TunerInternal pid=26850)\u001b[0m   File \"/home/ubuntu/.local/lib/python3.10/site-packages/fsspec/asyn.py\", line 640, in _get\n",
      "\u001b[36m(TunerInternal pid=26850)\u001b[0m     return await _run_coros_in_chunks(\n",
      "\u001b[36m(TunerInternal pid=26850)\u001b[0m   File \"/home/ubuntu/.local/lib/python3.10/site-packages/fsspec/asyn.py\", line 254, in _run_coros_in_chunks\n",
      "\u001b[36m(TunerInternal pid=26850)\u001b[0m     await asyncio.gather(*chunk, return_exceptions=return_exceptions),\n",
      "\u001b[36m(TunerInternal pid=26850)\u001b[0m   File \"/usr/lib/python3.10/asyncio/tasks.py\", line 408, in wait_for\n",
      "\u001b[36m(TunerInternal pid=26850)\u001b[0m     return await fut\n",
      "\u001b[36m(TunerInternal pid=26850)\u001b[0m   File \"/tmp/ray/session_2023-11-22_06-00-49_108699_1/runtime_resources/pip/db47321eacfbb9167dc59b6650d20a21acc0901b/virtualenv/lib/python3.10/site-packages/s3fs/core.py\", line 1254, in _get_file\n",
      "\u001b[36m(TunerInternal pid=26850)\u001b[0m     body, _ = await _open_file(bytes_read)\n",
      "\u001b[36m(TunerInternal pid=26850)\u001b[0m   File \"/tmp/ray/session_2023-11-22_06-00-49_108699_1/runtime_resources/pip/db47321eacfbb9167dc59b6650d20a21acc0901b/virtualenv/lib/python3.10/site-packages/s3fs/core.py\", line 113, in _error_wrapper\n",
      "\u001b[36m(TunerInternal pid=26850)\u001b[0m     return await func(*args, **kwargs)\n",
      "\u001b[36m(TunerInternal pid=26850)\u001b[0m   File \"/tmp/ray/session_2023-11-22_06-00-49_108699_1/runtime_resources/pip/db47321eacfbb9167dc59b6650d20a21acc0901b/virtualenv/lib/python3.10/site-packages/aiobotocore/client.py\", line 366, in _make_api_call\n",
      "\u001b[36m(TunerInternal pid=26850)\u001b[0m     http, parsed_response = await self._make_request(\n",
      "\u001b[36m(TunerInternal pid=26850)\u001b[0m   File \"/tmp/ray/session_2023-11-22_06-00-49_108699_1/runtime_resources/pip/db47321eacfbb9167dc59b6650d20a21acc0901b/virtualenv/lib/python3.10/site-packages/aiobotocore/client.py\", line 391, in _make_request\n",
      "\u001b[36m(TunerInternal pid=26850)\u001b[0m     return await self._endpoint.make_request(\n",
      "\u001b[36m(TunerInternal pid=26850)\u001b[0m   File \"/tmp/ray/session_2023-11-22_06-00-49_108699_1/runtime_resources/pip/db47321eacfbb9167dc59b6650d20a21acc0901b/virtualenv/lib/python3.10/site-packages/aiobotocore/endpoint.py\", line 100, in _send_request\n",
      "\u001b[36m(TunerInternal pid=26850)\u001b[0m     while await self._needs_retry(\n",
      "\u001b[36m(TunerInternal pid=26850)\u001b[0m   File \"/tmp/ray/session_2023-11-22_06-00-49_108699_1/runtime_resources/pip/db47321eacfbb9167dc59b6650d20a21acc0901b/virtualenv/lib/python3.10/site-packages/aiobotocore/endpoint.py\", line 262, in _needs_retry\n",
      "\u001b[36m(TunerInternal pid=26850)\u001b[0m     responses = await self._event_emitter.emit(\n",
      "\u001b[36m(TunerInternal pid=26850)\u001b[0m   File \"/tmp/ray/session_2023-11-22_06-00-49_108699_1/runtime_resources/pip/db47321eacfbb9167dc59b6650d20a21acc0901b/virtualenv/lib/python3.10/site-packages/aiobotocore/hooks.py\", line 66, in _emit\n",
      "\u001b[36m(TunerInternal pid=26850)\u001b[0m     response = await resolve_awaitable(handler(**kwargs))\n",
      "\u001b[36m(TunerInternal pid=26850)\u001b[0m   File \"/tmp/ray/session_2023-11-22_06-00-49_108699_1/runtime_resources/pip/db47321eacfbb9167dc59b6650d20a21acc0901b/virtualenv/lib/python3.10/site-packages/aiobotocore/_helpers.py\", line 15, in resolve_awaitable\n",
      "\u001b[36m(TunerInternal pid=26850)\u001b[0m     return await obj\n",
      "\u001b[36m(TunerInternal pid=26850)\u001b[0m   File \"/tmp/ray/session_2023-11-22_06-00-49_108699_1/runtime_resources/pip/db47321eacfbb9167dc59b6650d20a21acc0901b/virtualenv/lib/python3.10/site-packages/aiobotocore/retryhandler.py\", line 107, in _call\n",
      "\u001b[36m(TunerInternal pid=26850)\u001b[0m     if await resolve_awaitable(self._checker(**checker_kwargs)):\n",
      "\u001b[36m(TunerInternal pid=26850)\u001b[0m   File \"/tmp/ray/session_2023-11-22_06-00-49_108699_1/runtime_resources/pip/db47321eacfbb9167dc59b6650d20a21acc0901b/virtualenv/lib/python3.10/site-packages/aiobotocore/_helpers.py\", line 15, in resolve_awaitable\n",
      "\u001b[36m(TunerInternal pid=26850)\u001b[0m     return await obj\n",
      "\u001b[36m(TunerInternal pid=26850)\u001b[0m   File \"/tmp/ray/session_2023-11-22_06-00-49_108699_1/runtime_resources/pip/db47321eacfbb9167dc59b6650d20a21acc0901b/virtualenv/lib/python3.10/site-packages/aiobotocore/retryhandler.py\", line 126, in _call\n",
      "\u001b[36m(TunerInternal pid=26850)\u001b[0m     should_retry = await self._should_retry(\n",
      "\u001b[36m(TunerInternal pid=26850)\u001b[0m   File \"/tmp/ray/session_2023-11-22_06-00-49_108699_1/runtime_resources/pip/db47321eacfbb9167dc59b6650d20a21acc0901b/virtualenv/lib/python3.10/site-packages/aiobotocore/retryhandler.py\", line 165, in _should_retry\n",
      "\u001b[36m(TunerInternal pid=26850)\u001b[0m     return await resolve_awaitable(\n",
      "\u001b[36m(TunerInternal pid=26850)\u001b[0m   File \"/tmp/ray/session_2023-11-22_06-00-49_108699_1/runtime_resources/pip/db47321eacfbb9167dc59b6650d20a21acc0901b/virtualenv/lib/python3.10/site-packages/aiobotocore/_helpers.py\", line 15, in resolve_awaitable\n",
      "\u001b[36m(TunerInternal pid=26850)\u001b[0m     return await obj\n",
      "\u001b[36m(TunerInternal pid=26850)\u001b[0m   File \"/tmp/ray/session_2023-11-22_06-00-49_108699_1/runtime_resources/pip/db47321eacfbb9167dc59b6650d20a21acc0901b/virtualenv/lib/python3.10/site-packages/aiobotocore/retryhandler.py\", line 174, in _call\n",
      "\u001b[36m(TunerInternal pid=26850)\u001b[0m     checker(attempt_number, response, caught_exception)\n",
      "\u001b[36m(TunerInternal pid=26850)\u001b[0m   File \"/tmp/ray/session_2023-11-22_06-00-49_108699_1/runtime_resources/pip/db47321eacfbb9167dc59b6650d20a21acc0901b/virtualenv/lib/python3.10/site-packages/botocore/retryhandler.py\", line 247, in __call__\n",
      "\u001b[36m(TunerInternal pid=26850)\u001b[0m     return self._check_caught_exception(\n",
      "\u001b[36m(TunerInternal pid=26850)\u001b[0m   File \"/tmp/ray/session_2023-11-22_06-00-49_108699_1/runtime_resources/pip/db47321eacfbb9167dc59b6650d20a21acc0901b/virtualenv/lib/python3.10/site-packages/botocore/retryhandler.py\", line 416, in _check_caught_exception\n",
      "\u001b[36m(TunerInternal pid=26850)\u001b[0m     raise caught_exception\n",
      "\u001b[36m(TunerInternal pid=26850)\u001b[0m   File \"/tmp/ray/session_2023-11-22_06-00-49_108699_1/runtime_resources/pip/db47321eacfbb9167dc59b6650d20a21acc0901b/virtualenv/lib/python3.10/site-packages/aiobotocore/endpoint.py\", line 181, in _do_get_response\n",
      "\u001b[36m(TunerInternal pid=26850)\u001b[0m     http_response = await self._send(request)\n",
      "\u001b[36m(TunerInternal pid=26850)\u001b[0m   File \"/tmp/ray/session_2023-11-22_06-00-49_108699_1/runtime_resources/pip/db47321eacfbb9167dc59b6650d20a21acc0901b/virtualenv/lib/python3.10/site-packages/aiobotocore/endpoint.py\", line 285, in _send\n",
      "\u001b[36m(TunerInternal pid=26850)\u001b[0m     return await self.http_session.send(request)\n",
      "\u001b[36m(TunerInternal pid=26850)\u001b[0m   File \"/tmp/ray/session_2023-11-22_06-00-49_108699_1/runtime_resources/pip/db47321eacfbb9167dc59b6650d20a21acc0901b/virtualenv/lib/python3.10/site-packages/aiobotocore/httpsession.py\", line 245, in send\n",
      "\u001b[36m(TunerInternal pid=26850)\u001b[0m     raise ConnectTimeoutError(endpoint_url=request.url, error=e)\n",
      "\u001b[36m(TunerInternal pid=26850)\u001b[0m botocore.exceptions.ConnectTimeoutError: Connect timeout on endpoint URL: \"http://minio:9000/train/gpt2-test/checkpoint-200/optimizer.pt\"\n"
     ]
    },
    {
     "name": "stdout",
     "output_type": "stream",
     "text": [
      "\u001b[36m(TunerInternal pid=26850)\u001b[0m \n",
      "\u001b[36m(TunerInternal pid=26850)\u001b[0m Training errored after 0 iterations at 2023-11-22 07:46:48. Total running time: 1min 2s\n",
      "\u001b[36m(TunerInternal pid=26850)\u001b[0m Error file: /home/ubuntu/ray_results/TorchTrainer_2023-11-22_07-45-45/TorchTrainer_2583a_00000_0_2023-11-22_07-45-46/error.txt\n",
      "\u001b[36m(TunerInternal pid=26850)\u001b[0m \n",
      "\u001b[36m(TunerInternal pid=26850)\u001b[0m Training started with configuration:\n",
      "\u001b[36m(TunerInternal pid=26850)\u001b[0m ╭───────────────────────────────────────────────╮\n",
      "\u001b[36m(TunerInternal pid=26850)\u001b[0m │ Training config                               │\n",
      "\u001b[36m(TunerInternal pid=26850)\u001b[0m ├───────────────────────────────────────────────┤\n",
      "\u001b[36m(TunerInternal pid=26850)\u001b[0m │ train_loop_config/local             local_dir │\n",
      "\u001b[36m(TunerInternal pid=26850)\u001b[0m │ train_loop_config/remote   s3://train/indexed │\n",
      "\u001b[36m(TunerInternal pid=26850)\u001b[0m ╰───────────────────────────────────────────────╯\n"
     ]
    },
    {
     "name": "stderr",
     "output_type": "stream",
     "text": [
      "\u001b[36m(TorchTrainer pid=3712, ip=10.208.0.196)\u001b[0m Starting distributed worker processes: ['3755 (10.208.0.196)', '27656 (10.208.0.206)']\n",
      "\u001b[36m(RayTrainWorker pid=3755, ip=10.208.0.196)\u001b[0m Setting up process group for: env:// [rank=0, world_size=2]\n"
     ]
    },
    {
     "name": "stdout",
     "output_type": "stream",
     "text": [
      "\u001b[36m(RayTrainWorker pid=27656)\u001b[0m load checkpoint from train/gpt2-test/checkpoint-200\n",
      "\u001b[36m(RayTrainWorker pid=3755, ip=10.208.0.196)\u001b[0m load checkpoint from train/gpt2-test/checkpoint-200\n"
     ]
    },
    {
     "name": "stderr",
     "output_type": "stream",
     "text": [
      "\u001b[36m(RayTrainWorker pid=3755, ip=10.208.0.196)\u001b[0m There were missing keys in the checkpoint model loaded: ['lm_head.weight'].\n",
      "\u001b[36m(RayTrainWorker pid=27656)\u001b[0m There were missing keys in the checkpoint model loaded: ['lm_head.weight'].\n",
      "\u001b[36m(RayTrainWorker pid=3755, ip=10.208.0.196)\u001b[0m wandb: Currently logged in as: husein-mesolitica (mesolitica). Use `wandb login --relogin` to force relogin\n",
      "\u001b[36m(RayTrainWorker pid=3755, ip=10.208.0.196)\u001b[0m wandb: Tracking run with wandb version 0.16.0\n",
      "\u001b[36m(RayTrainWorker pid=3755, ip=10.208.0.196)\u001b[0m wandb: Run data is saved locally in /home/ubuntu/ray_results/TorchTrainer_2023-11-22_07-45-45/TorchTrainer_2583a_00000_0_2023-11-22_07-45-46/wandb/run-20231122_074730-qo86ld4x\n",
      "\u001b[36m(RayTrainWorker pid=3755, ip=10.208.0.196)\u001b[0m wandb: Run `wandb offline` to turn off syncing.\n",
      "\u001b[36m(RayTrainWorker pid=3755, ip=10.208.0.196)\u001b[0m wandb: Syncing run graceful-river-28\n",
      "\u001b[36m(RayTrainWorker pid=3755, ip=10.208.0.196)\u001b[0m wandb: ⭐️ View project at https://wandb.ai/mesolitica/run-ray\n",
      "\u001b[36m(RayTrainWorker pid=3755, ip=10.208.0.196)\u001b[0m wandb: 🚀 View run at https://wandb.ai/mesolitica/run-ray/runs/qo86ld4x\n",
      "  0%|          | 0/10000 [00:00<?, ?it/s]0.196)\u001b[0m \n",
      "  0%|          | 0/10000 [00:00<?, ?it/s]\n",
      "\u001b[36m(RayTrainWorker pid=3755, ip=10.208.0.196)\u001b[0m [W reducer.cpp:1346] Warning: find_unused_parameters=True was specified in DDP constructor, but did not find any unused parameters in the forward pass. This flag results in an extra traversal of the autograd graph every iteration,  which can adversely affect performance. If your model indeed never has any unused parameters in the forward pass, consider turning this flag off. Note that this warning may be a false positive if your model has flow control causing later iterations to have unused parameters. (function operator())\n",
      "\u001b[36m(RayTrainWorker pid=27656)\u001b[0m [W reducer.cpp:1346] Warning: find_unused_parameters=True was specified in DDP constructor, but did not find any unused parameters in the forward pass. This flag results in an extra traversal of the autograd graph every iteration,  which can adversely affect performance. If your model indeed never has any unused parameters in the forward pass, consider turning this flag off. Note that this warning may be a false positive if your model has flow control causing later iterations to have unused parameters. (function operator())\n"
     ]
    },
    {
     "name": "stdout",
     "output_type": "stream",
     "text": [
      "\u001b[36m(RayTrainWorker pid=27656)\u001b[0m {'loss': 9.008, 'learning_rate': 1.9598e-05, 'epoch': 0.02}\n",
      "\u001b[36m(RayTrainWorker pid=3755, ip=10.208.0.196)\u001b[0m {'loss': 9.008, 'learning_rate': 1.9598e-05, 'epoch': 0.02}\n"
     ]
    },
    {
     "name": "stderr",
     "output_type": "stream",
     "text": [
      "  2%|▏         | 201/10000 [00:02<01:39, 98.01it/s]\n",
      "  2%|▏         | 201/10000 [00:02<01:45, 93.22it/s] \n",
      "  2%|▏         | 202/10000 [00:02<01:45, 93.22it/s] \n",
      "  2%|▏         | 202/10000 [00:02<01:39, 98.01it/s]\n"
     ]
    },
    {
     "name": "stdout",
     "output_type": "stream",
     "text": [
      "\u001b[36m(RayTrainWorker pid=3755, ip=10.208.0.196)\u001b[0m {'loss': 8.5353, 'learning_rate': 1.9596e-05, 'epoch': 0.02}\n",
      "\u001b[36m(RayTrainWorker pid=27656)\u001b[0m {'loss': 8.5353, 'learning_rate': 1.9596e-05, 'epoch': 0.02}\n"
     ]
    },
    {
     "name": "stderr",
     "output_type": "stream",
     "text": [
      "  2%|▏         | 203/10000 [00:03<01:45, 93.22it/s]\n",
      "  2%|▏         | 203/10000 [00:03<01:39, 98.01it/s]\n"
     ]
    },
    {
     "name": "stdout",
     "output_type": "stream",
     "text": [
      "\u001b[36m(RayTrainWorker pid=3755, ip=10.208.0.196)\u001b[0m {'loss': 9.4568, 'learning_rate': 1.9594000000000002e-05, 'epoch': 0.02}\n",
      "\u001b[36m(RayTrainWorker pid=27656)\u001b[0m {'loss': 9.4568, 'learning_rate': 1.9594000000000002e-05, 'epoch': 0.02}\n",
      "\u001b[36m(RayTrainWorker pid=27656)\u001b[0m {'loss': 10.8801, 'learning_rate': 1.9592e-05, 'epoch': 0.02}\n",
      "\u001b[36m(RayTrainWorker pid=3755, ip=10.208.0.196)\u001b[0m {'loss': 10.8801, 'learning_rate': 1.9592e-05, 'epoch': 0.02}\n"
     ]
    },
    {
     "name": "stderr",
     "output_type": "stream",
     "text": [
      "  2%|▏         | 204/10000 [00:03<01:39, 98.01it/s]\n",
      "  2%|▏         | 204/10000 [00:03<01:45, 93.22it/s] \n",
      "  2%|▏         | 205/10000 [00:04<01:45, 93.22it/s] \n",
      "  2%|▏         | 205/10000 [00:04<01:39, 98.01it/s]\n"
     ]
    },
    {
     "name": "stdout",
     "output_type": "stream",
     "text": [
      "\u001b[36m(RayTrainWorker pid=3755, ip=10.208.0.196)\u001b[0m {'loss': 7.1394, 'learning_rate': 1.9590000000000004e-05, 'epoch': 0.02}\n",
      "\u001b[36m(RayTrainWorker pid=27656)\u001b[0m {'loss': 7.1394, 'learning_rate': 1.9590000000000004e-05, 'epoch': 0.02}\n"
     ]
    },
    {
     "name": "stderr",
     "output_type": "stream",
     "text": [
      "  2%|▏         | 206/10000 [00:04<01:45, 93.22it/s]\n",
      "  2%|▏         | 206/10000 [00:04<01:39, 98.01it/s]\n"
     ]
    },
    {
     "name": "stdout",
     "output_type": "stream",
     "text": [
      "\u001b[36m(RayTrainWorker pid=3755, ip=10.208.0.196)\u001b[0m {'loss': 7.2601, 'learning_rate': 1.9588000000000003e-05, 'epoch': 0.02}\n",
      "\u001b[36m(RayTrainWorker pid=27656)\u001b[0m {'loss': 7.2601, 'learning_rate': 1.9588000000000003e-05, 'epoch': 0.02}\n",
      "\u001b[36m(RayTrainWorker pid=27656)\u001b[0m {'loss': 9.8704, 'learning_rate': 1.9586000000000002e-05, 'epoch': 0.02}\n",
      "\u001b[36m(RayTrainWorker pid=3755, ip=10.208.0.196)\u001b[0m {'loss': 9.8704, 'learning_rate': 1.9586000000000002e-05, 'epoch': 0.02}\n"
     ]
    },
    {
     "name": "stderr",
     "output_type": "stream",
     "text": [
      "  2%|▏         | 207/10000 [00:04<01:39, 98.01it/s]\n",
      "  2%|▏         | 207/10000 [00:05<01:45, 93.22it/s]\n"
     ]
    },
    {
     "name": "stdout",
     "output_type": "stream",
     "text": [
      "\u001b[36m(RayTrainWorker pid=27656)\u001b[0m {'loss': 8.7795, 'learning_rate': 1.9584e-05, 'epoch': 0.02}\n",
      "\u001b[36m(RayTrainWorker pid=3755, ip=10.208.0.196)\u001b[0m {'loss': 8.7795, 'learning_rate': 1.9584e-05, 'epoch': 0.02}\n"
     ]
    },
    {
     "name": "stderr",
     "output_type": "stream",
     "text": [
      "  2%|▏         | 208/10000 [00:05<01:39, 98.01it/s]\n",
      "  2%|▏         | 208/10000 [00:05<01:45, 93.22it/s] \n",
      "  2%|▏         | 209/10000 [00:06<01:45, 93.22it/s] \n",
      "  2%|▏         | 209/10000 [00:05<01:39, 98.01it/s]\n"
     ]
    },
    {
     "name": "stdout",
     "output_type": "stream",
     "text": [
      "\u001b[36m(RayTrainWorker pid=3755, ip=10.208.0.196)\u001b[0m {'loss': 7.4014, 'learning_rate': 1.9582e-05, 'epoch': 0.02}\n",
      "\u001b[36m(RayTrainWorker pid=27656)\u001b[0m {'loss': 7.4014, 'learning_rate': 1.9582e-05, 'epoch': 0.02}\n",
      "\u001b[36m(RayTrainWorker pid=27656)\u001b[0m {'loss': 10.7159, 'learning_rate': 1.9580000000000002e-05, 'epoch': 0.02}\n",
      "\u001b[36m(RayTrainWorker pid=3755, ip=10.208.0.196)\u001b[0m {'loss': 10.7159, 'learning_rate': 1.9580000000000002e-05, 'epoch': 0.02}\n"
     ]
    },
    {
     "name": "stderr",
     "output_type": "stream",
     "text": [
      "  2%|▏         | 210/10000 [00:06<01:39, 98.01it/s]\n",
      "  2%|▏         | 210/10000 [00:06<01:45, 93.22it/s]\n"
     ]
    },
    {
     "name": "stdout",
     "output_type": "stream",
     "text": [
      "\u001b[36m(RayTrainWorker pid=27656)\u001b[0m {'loss': 7.6971, 'learning_rate': 1.9578e-05, 'epoch': 0.02}\n",
      "\u001b[36m(RayTrainWorker pid=3755, ip=10.208.0.196)\u001b[0m {'loss': 7.6971, 'learning_rate': 1.9578e-05, 'epoch': 0.02}\n"
     ]
    },
    {
     "name": "stderr",
     "output_type": "stream",
     "text": [
      "  2%|▏         | 211/10000 [00:06<06:49, 23.90it/s]\n",
      "  2%|▏         | 211/10000 [00:07<06:54, 23.62it/s] \n",
      "  2%|▏         | 212/10000 [00:07<06:54, 23.62it/s] \n",
      "  2%|▏         | 212/10000 [00:07<06:49, 23.90it/s]\n"
     ]
    },
    {
     "name": "stdout",
     "output_type": "stream",
     "text": [
      "\u001b[36m(RayTrainWorker pid=3755, ip=10.208.0.196)\u001b[0m {'loss': 7.1479, 'learning_rate': 1.9576e-05, 'epoch': 0.02}\n",
      "\u001b[36m(RayTrainWorker pid=27656)\u001b[0m {'loss': 7.1479, 'learning_rate': 1.9576e-05, 'epoch': 0.02}\n",
      "\u001b[36m(RayTrainWorker pid=27656)\u001b[0m {'loss': 8.2235, 'learning_rate': 1.9574000000000003e-05, 'epoch': 0.02}\n",
      "\u001b[36m(RayTrainWorker pid=3755, ip=10.208.0.196)\u001b[0m {'loss': 8.2235, 'learning_rate': 1.9574000000000003e-05, 'epoch': 0.02}\n"
     ]
    },
    {
     "name": "stderr",
     "output_type": "stream",
     "text": [
      "  2%|▏         | 213/10000 [00:07<06:49, 23.90it/s]\n",
      "  2%|▏         | 213/10000 [00:07<06:54, 23.62it/s]\n"
     ]
    },
    {
     "name": "stdout",
     "output_type": "stream",
     "text": [
      "\u001b[36m(RayTrainWorker pid=27656)\u001b[0m {'loss': 8.1014, 'learning_rate': 1.9572e-05, 'epoch': 0.02}\n",
      "\u001b[36m(RayTrainWorker pid=3755, ip=10.208.0.196)\u001b[0m {'loss': 8.1014, 'learning_rate': 1.9572e-05, 'epoch': 0.02}\n"
     ]
    },
    {
     "name": "stderr",
     "output_type": "stream",
     "text": [
      "  2%|▏         | 214/10000 [00:08<06:49, 23.90it/s]\n",
      "  2%|▏         | 214/10000 [00:08<06:54, 23.62it/s] \n",
      "  2%|▏         | 215/10000 [00:08<09:31, 17.11it/s] \n",
      "  2%|▏         | 215/10000 [00:08<06:49, 23.90it/s]\n"
     ]
    },
    {
     "name": "stdout",
     "output_type": "stream",
     "text": [
      "\u001b[36m(RayTrainWorker pid=3755, ip=10.208.0.196)\u001b[0m {'loss': 7.6154, 'learning_rate': 1.957e-05, 'epoch': 0.02}\n",
      "\u001b[36m(RayTrainWorker pid=27656)\u001b[0m {'loss': 7.6154, 'learning_rate': 1.957e-05, 'epoch': 0.02}\n"
     ]
    },
    {
     "name": "stderr",
     "output_type": "stream",
     "text": [
      "  2%|▏         | 216/10000 [00:09<10:05, 16.15it/s]\n",
      "  2%|▏         | 216/10000 [00:09<10:05, 16.15it/s]\n",
      "  2%|▏         | 216/10000 [00:09<09:31, 17.11it/s]\n"
     ]
    },
    {
     "name": "stdout",
     "output_type": "stream",
     "text": [
      "\u001b[36m(RayTrainWorker pid=27656)\u001b[0m {'loss': 9.0755, 'learning_rate': 1.9568000000000003e-05, 'epoch': 0.02}\n",
      "\u001b[36m(RayTrainWorker pid=3755, ip=10.208.0.196)\u001b[0m {'loss': 9.0755, 'learning_rate': 1.9568000000000003e-05, 'epoch': 0.02}\n",
      "\u001b[36m(RayTrainWorker pid=27656)\u001b[0m {'loss': 7.9455, 'learning_rate': 1.9566000000000002e-05, 'epoch': 0.02}\n",
      "\u001b[36m(RayTrainWorker pid=3755, ip=10.208.0.196)\u001b[0m {'loss': 7.9455, 'learning_rate': 1.9566000000000002e-05, 'epoch': 0.02}\n"
     ]
    },
    {
     "name": "stderr",
     "output_type": "stream",
     "text": [
      "  2%|▏         | 217/10000 [00:09<10:05, 16.15it/s]\n",
      "  2%|▏         | 217/10000 [00:09<09:31, 17.11it/s] \n",
      "  2%|▏         | 218/10000 [00:10<12:09, 13.40it/s] \n",
      "  2%|▏         | 218/10000 [00:10<12:09, 13.40it/s] \n",
      "  2%|▏         | 218/10000 [00:10<10:05, 16.15it/s]\n"
     ]
    },
    {
     "name": "stdout",
     "output_type": "stream",
     "text": [
      "\u001b[36m(RayTrainWorker pid=3755, ip=10.208.0.196)\u001b[0m {'loss': 8.7585, 'learning_rate': 1.9564e-05, 'epoch': 0.02}\n",
      "\u001b[36m(RayTrainWorker pid=27656)\u001b[0m {'loss': 8.7585, 'learning_rate': 1.9564e-05, 'epoch': 0.02}\n"
     ]
    },
    {
     "name": "stderr",
     "output_type": "stream",
     "text": [
      "  2%|▏         | 219/10000 [00:10<12:40, 12.86it/s]\n",
      "  2%|▏         | 219/10000 [00:10<12:09, 13.40it/s]\n",
      "  2%|▏         | 219/10000 [00:10<12:40, 12.86it/s]\n"
     ]
    },
    {
     "name": "stdout",
     "output_type": "stream",
     "text": [
      "\u001b[36m(RayTrainWorker pid=3755, ip=10.208.0.196)\u001b[0m {'loss': 10.0232, 'learning_rate': 1.9562e-05, 'epoch': 0.02}\n",
      "\u001b[36m(RayTrainWorker pid=27656)\u001b[0m {'loss': 10.0232, 'learning_rate': 1.9562e-05, 'epoch': 0.02}\n",
      "\u001b[36m(RayTrainWorker pid=27656)\u001b[0m {'loss': 9.5599, 'learning_rate': 1.9560000000000002e-05, 'epoch': 0.02}\n",
      "\u001b[36m(RayTrainWorker pid=3755, ip=10.208.0.196)\u001b[0m {'loss': 9.5599, 'learning_rate': 1.9560000000000002e-05, 'epoch': 0.02}\n"
     ]
    },
    {
     "name": "stderr",
     "output_type": "stream",
     "text": [
      "  2%|▏         | 220/10000 [00:11<12:40, 12.86it/s]\n",
      "  2%|▏         | 220/10000 [00:11<14:31, 11.22it/s]\n"
     ]
    },
    {
     "name": "stdout",
     "output_type": "stream",
     "text": [
      "\u001b[36m(RayTrainWorker pid=27656)\u001b[0m {'loss': 7.6285, 'learning_rate': 1.9558e-05, 'epoch': 0.02}\n",
      "\u001b[36m(RayTrainWorker pid=3755, ip=10.208.0.196)\u001b[0m {'loss': 7.6285, 'learning_rate': 1.9558e-05, 'epoch': 0.02}\n"
     ]
    },
    {
     "name": "stderr",
     "output_type": "stream",
     "text": [
      "  2%|▏         | 221/10000 [00:11<14:58, 10.88it/s]\n",
      "  2%|▏         | 221/10000 [00:11<16:03, 10.15it/s] \n",
      "  2%|▏         | 222/10000 [00:12<18:09,  8.98it/s] \n",
      "  2%|▏         | 222/10000 [00:12<14:58, 10.88it/s]\n"
     ]
    },
    {
     "name": "stdout",
     "output_type": "stream",
     "text": [
      "\u001b[36m(RayTrainWorker pid=3755, ip=10.208.0.196)\u001b[0m {'loss': 8.7343, 'learning_rate': 1.9556e-05, 'epoch': 0.02}\n",
      "\u001b[36m(RayTrainWorker pid=27656)\u001b[0m {'loss': 8.7343, 'learning_rate': 1.9556e-05, 'epoch': 0.02}\n",
      "\u001b[36m(RayTrainWorker pid=27656)\u001b[0m {'loss': 9.0662, 'learning_rate': 1.9554000000000003e-05, 'epoch': 0.02}\n",
      "\u001b[36m(RayTrainWorker pid=3755, ip=10.208.0.196)\u001b[0m {'loss': 9.0662, 'learning_rate': 1.9554000000000003e-05, 'epoch': 0.02}\n"
     ]
    },
    {
     "name": "stderr",
     "output_type": "stream",
     "text": [
      "  2%|▏         | 223/10000 [00:12<17:59,  9.05it/s]\n",
      "  2%|▏         | 223/10000 [00:12<20:59,  7.77it/s]\n"
     ]
    },
    {
     "name": "stdout",
     "output_type": "stream",
     "text": [
      "\u001b[36m(RayTrainWorker pid=27656)\u001b[0m {'loss': 8.3398, 'learning_rate': 1.9552000000000002e-05, 'epoch': 0.02}\n",
      "\u001b[36m(RayTrainWorker pid=3755, ip=10.208.0.196)\u001b[0m {'loss': 8.3398, 'learning_rate': 1.9552000000000002e-05, 'epoch': 0.02}\n"
     ]
    },
    {
     "name": "stderr",
     "output_type": "stream",
     "text": [
      "  2%|▏         | 224/10000 [00:13<19:59,  8.15it/s]\n",
      "  2%|▏         | 224/10000 [00:13<24:33,  6.64it/s] \n",
      "  2%|▏         | 225/10000 [00:13<28:52,  5.64it/s] \n",
      "  2%|▏         | 225/10000 [00:13<22:34,  7.22it/s]\n"
     ]
    },
    {
     "name": "stdout",
     "output_type": "stream",
     "text": [
      "\u001b[36m(RayTrainWorker pid=3755, ip=10.208.0.196)\u001b[0m {'loss': 8.2833, 'learning_rate': 1.955e-05, 'epoch': 0.02}\n",
      "\u001b[36m(RayTrainWorker pid=27656)\u001b[0m {'loss': 8.2833, 'learning_rate': 1.955e-05, 'epoch': 0.02}\n",
      "\u001b[36m(RayTrainWorker pid=27656)\u001b[0m {'loss': 8.5903, 'learning_rate': 1.9548000000000003e-05, 'epoch': 0.02}\n",
      "\u001b[36m(RayTrainWorker pid=3755, ip=10.208.0.196)\u001b[0m {'loss': 8.5903, 'learning_rate': 1.9548000000000003e-05, 'epoch': 0.02}\n"
     ]
    },
    {
     "name": "stderr",
     "output_type": "stream",
     "text": [
      "  2%|▏         | 226/10000 [00:14<25:56,  6.28it/s]\n",
      "  2%|▏         | 226/10000 [00:14<34:04,  4.78it/s]\n"
     ]
    },
    {
     "name": "stdout",
     "output_type": "stream",
     "text": [
      "\u001b[36m(RayTrainWorker pid=27656)\u001b[0m {'loss': 8.5251, 'learning_rate': 1.9546e-05, 'epoch': 0.02}\n",
      "\u001b[36m(RayTrainWorker pid=3755, ip=10.208.0.196)\u001b[0m {'loss': 8.5251, 'learning_rate': 1.9546e-05, 'epoch': 0.02}\n"
     ]
    },
    {
     "name": "stderr",
     "output_type": "stream",
     "text": [
      "  2%|▏         | 227/10000 [00:14<30:03,  5.42it/s]\n",
      "  2%|▏         | 227/10000 [00:14<39:47,  4.09it/s]\n"
     ]
    },
    {
     "name": "stdout",
     "output_type": "stream",
     "text": [
      "\u001b[36m(RayTrainWorker pid=27656)\u001b[0m {'loss': 8.5632, 'learning_rate': 1.9544e-05, 'epoch': 0.02}\n",
      "\u001b[36m(RayTrainWorker pid=3755, ip=10.208.0.196)\u001b[0m {'loss': 8.5632, 'learning_rate': 1.9544e-05, 'epoch': 0.02}\n"
     ]
    },
    {
     "name": "stderr",
     "output_type": "stream",
     "text": [
      "  2%|▏         | 228/10000 [00:15<35:01,  4.65it/s]\n",
      "  2%|▏         | 228/10000 [00:15<45:55,  3.55it/s]\n"
     ]
    },
    {
     "name": "stdout",
     "output_type": "stream",
     "text": [
      "\u001b[36m(RayTrainWorker pid=27656)\u001b[0m {'loss': 7.1783, 'learning_rate': 1.9542e-05, 'epoch': 0.02}\n",
      "\u001b[36m(RayTrainWorker pid=3755, ip=10.208.0.196)\u001b[0m {'loss': 7.1783, 'learning_rate': 1.9542e-05, 'epoch': 0.02}\n"
     ]
    },
    {
     "name": "stderr",
     "output_type": "stream",
     "text": [
      "  2%|▏         | 229/10000 [00:15<40:30,  4.02it/s]\n",
      "  2%|▏         | 229/10000 [00:15<51:51,  3.14it/s]\n"
     ]
    },
    {
     "name": "stdout",
     "output_type": "stream",
     "text": [
      "\u001b[36m(RayTrainWorker pid=27656)\u001b[0m {'loss': 8.8099, 'learning_rate': 1.9540000000000003e-05, 'epoch': 0.02}\n",
      "\u001b[36m(RayTrainWorker pid=3755, ip=10.208.0.196)\u001b[0m {'loss': 8.8099, 'learning_rate': 1.9540000000000003e-05, 'epoch': 0.02}\n"
     ]
    },
    {
     "name": "stderr",
     "output_type": "stream",
     "text": [
      "  2%|▏         | 230/10000 [00:16<46:18,  3.52it/s]\n",
      "  2%|▏         | 230/10000 [00:16<57:22,  2.84it/s]\n"
     ]
    },
    {
     "name": "stdout",
     "output_type": "stream",
     "text": [
      "\u001b[36m(RayTrainWorker pid=27656)\u001b[0m {'loss': 8.8837, 'learning_rate': 1.9538e-05, 'epoch': 0.02}\n",
      "\u001b[36m(RayTrainWorker pid=3755, ip=10.208.0.196)\u001b[0m {'loss': 8.8837, 'learning_rate': 1.9538e-05, 'epoch': 0.02}\n"
     ]
    },
    {
     "name": "stderr",
     "output_type": "stream",
     "text": [
      "  2%|▏         | 231/10000 [00:16<52:04,  3.13it/s]\n",
      "  2%|▏         | 231/10000 [00:16<1:02:11,  2.62it/s]\n",
      "  2%|▏         | 232/10000 [00:17<57:36,  2.83it/s]\n",
      "  2%|▏         | 232/10000 [00:17<57:36,  2.83it/s]\n",
      "  2%|▏         | 232/10000 [00:17<1:06:23,  2.45it/s]\n"
     ]
    },
    {
     "name": "stdout",
     "output_type": "stream",
     "text": [
      "\u001b[36m(RayTrainWorker pid=27656)\u001b[0m {'loss': 9.2346, 'learning_rate': 1.9536e-05, 'epoch': 0.02}\n",
      "\u001b[36m(RayTrainWorker pid=3755, ip=10.208.0.196)\u001b[0m {'loss': 9.2346, 'learning_rate': 1.9536e-05, 'epoch': 0.02}\n",
      "\u001b[36m(RayTrainWorker pid=27656)\u001b[0m {'loss': 8.9218, 'learning_rate': 1.9534000000000003e-05, 'epoch': 0.02}\n",
      "\u001b[36m(RayTrainWorker pid=3755, ip=10.208.0.196)\u001b[0m {'loss': 8.9218, 'learning_rate': 1.9534000000000003e-05, 'epoch': 0.02}\n"
     ]
    },
    {
     "name": "stderr",
     "output_type": "stream",
     "text": [
      "  2%|▏         | 233/10000 [00:17<1:02:10,  2.62it/s]\n",
      "  2%|▏         | 233/10000 [00:17<1:09:22,  2.35it/s]\n"
     ]
    },
    {
     "name": "stdout",
     "output_type": "stream",
     "text": [
      "\u001b[36m(RayTrainWorker pid=27656)\u001b[0m {'loss': 7.5084, 'learning_rate': 1.9532000000000002e-05, 'epoch': 0.02}\n",
      "\u001b[36m(RayTrainWorker pid=3755, ip=10.208.0.196)\u001b[0m {'loss': 7.5084, 'learning_rate': 1.9532000000000002e-05, 'epoch': 0.02}\n"
     ]
    },
    {
     "name": "stderr",
     "output_type": "stream",
     "text": [
      "  2%|▏         | 234/10000 [00:18<1:06:15,  2.46it/s]\n",
      "  2%|▏         | 234/10000 [00:18<1:11:58,  2.26it/s]\n",
      "  2%|▏         | 235/10000 [00:18<1:09:40,  2.34it/s]\n",
      "  2%|▏         | 235/10000 [00:18<1:14:04,  2.20it/s]\n",
      "  2%|▏         | 235/10000 [00:18<1:09:40,  2.34it/s]\n"
     ]
    },
    {
     "name": "stdout",
     "output_type": "stream",
     "text": [
      "\u001b[36m(RayTrainWorker pid=3755, ip=10.208.0.196)\u001b[0m {'loss': 7.743, 'learning_rate': 1.953e-05, 'epoch': 0.02}\n",
      "\u001b[36m(RayTrainWorker pid=27656)\u001b[0m {'loss': 7.743, 'learning_rate': 1.953e-05, 'epoch': 0.02}\n",
      "\u001b[36m(RayTrainWorker pid=27656)\u001b[0m {'loss': 7.4707, 'learning_rate': 1.9528000000000003e-05, 'epoch': 0.02}\n",
      "\u001b[36m(RayTrainWorker pid=3755, ip=10.208.0.196)\u001b[0m {'loss': 7.4707, 'learning_rate': 1.9528000000000003e-05, 'epoch': 0.02}\n"
     ]
    },
    {
     "name": "stderr",
     "output_type": "stream",
     "text": [
      "  2%|▏         | 236/10000 [00:19<1:12:19,  2.25it/s]\n",
      "  2%|▏         | 236/10000 [00:19<1:15:36,  2.15it/s]\n"
     ]
    },
    {
     "name": "stdout",
     "output_type": "stream",
     "text": [
      "\u001b[36m(RayTrainWorker pid=27656)\u001b[0m {'loss': 8.4884, 'learning_rate': 1.9526e-05, 'epoch': 0.02}\n",
      "\u001b[36m(RayTrainWorker pid=3755, ip=10.208.0.196)\u001b[0m {'loss': 8.4884, 'learning_rate': 1.9526e-05, 'epoch': 0.02}\n"
     ]
    },
    {
     "name": "stderr",
     "output_type": "stream",
     "text": [
      "  2%|▏         | 237/10000 [00:19<1:14:06,  2.20it/s]\n",
      "  2%|▏         | 237/10000 [00:19<1:16:31,  2.13it/s]\n",
      "  2%|▏         | 238/10000 [00:20<1:17:12,  2.11it/s]\n",
      "  2%|▏         | 238/10000 [00:20<1:15:27,  2.16it/s]\n"
     ]
    },
    {
     "name": "stdout",
     "output_type": "stream",
     "text": [
      "\u001b[36m(RayTrainWorker pid=3755, ip=10.208.0.196)\u001b[0m {'loss': 6.8865, 'learning_rate': 1.9524e-05, 'epoch': 0.02}\n",
      "\u001b[36m(RayTrainWorker pid=27656)\u001b[0m {'loss': 6.8865, 'learning_rate': 1.9524e-05, 'epoch': 0.02}\n",
      "\u001b[36m(RayTrainWorker pid=27656)\u001b[0m {'loss': 9.0134, 'learning_rate': 1.9522e-05, 'epoch': 0.02}\n",
      "\u001b[36m(RayTrainWorker pid=3755, ip=10.208.0.196)\u001b[0m {'loss': 9.0134, 'learning_rate': 1.9522e-05, 'epoch': 0.02}\n"
     ]
    },
    {
     "name": "stderr",
     "output_type": "stream",
     "text": [
      "  2%|▏         | 239/10000 [00:20<1:16:11,  2.14it/s]\n",
      "  2%|▏         | 239/10000 [00:20<1:17:26,  2.10it/s]\n"
     ]
    },
    {
     "name": "stdout",
     "output_type": "stream",
     "text": [
      "\u001b[36m(RayTrainWorker pid=27656)\u001b[0m {'loss': 7.6789, 'learning_rate': 1.9520000000000003e-05, 'epoch': 0.02}\n",
      "\u001b[36m(RayTrainWorker pid=3755, ip=10.208.0.196)\u001b[0m {'loss': 7.6789, 'learning_rate': 1.9520000000000003e-05, 'epoch': 0.02}\n"
     ]
    },
    {
     "name": "stderr",
     "output_type": "stream",
     "text": [
      "  2%|▏         | 240/10000 [00:21<1:16:55,  2.11it/s]\n",
      "  2%|▏         | 240/10000 [00:21<1:17:48,  2.09it/s]\n",
      "  2%|▏         | 241/10000 [00:21<1:17:25,  2.10it/s]\n",
      "  2%|▏         | 241/10000 [00:21<1:17:25,  2.10it/s]\n",
      "  2%|▏         | 241/10000 [00:21<1:18:02,  2.08it/s]\n"
     ]
    },
    {
     "name": "stdout",
     "output_type": "stream",
     "text": [
      "\u001b[36m(RayTrainWorker pid=27656)\u001b[0m {'loss': 7.6772, 'learning_rate': 1.9518000000000002e-05, 'epoch': 0.02}\n",
      "\u001b[36m(RayTrainWorker pid=3755, ip=10.208.0.196)\u001b[0m {'loss': 7.6772, 'learning_rate': 1.9518000000000002e-05, 'epoch': 0.02}\n"
     ]
    },
    {
     "name": "stderr",
     "output_type": "stream",
     "text": [
      "  2%|▏         | 242/10000 [00:22<1:18:17,  2.08it/s]\n",
      "  2%|▏         | 242/10000 [00:21<1:17:51,  2.09it/s]\n"
     ]
    },
    {
     "name": "stdout",
     "output_type": "stream",
     "text": [
      "\u001b[36m(RayTrainWorker pid=3755, ip=10.208.0.196)\u001b[0m {'loss': 9.4451, 'learning_rate': 1.9516e-05, 'epoch': 0.02}\n",
      "\u001b[36m(RayTrainWorker pid=27656)\u001b[0m {'loss': 9.4451, 'learning_rate': 1.9516e-05, 'epoch': 0.02}\n"
     ]
    },
    {
     "name": "stderr",
     "output_type": "stream",
     "text": [
      "  2%|▏         | 243/10000 [00:22<1:18:51,  2.06it/s]\n",
      "  2%|▏         | 243/10000 [00:22<1:18:32,  2.07it/s]\n"
     ]
    },
    {
     "name": "stdout",
     "output_type": "stream",
     "text": [
      "\u001b[36m(RayTrainWorker pid=3755, ip=10.208.0.196)\u001b[0m {'loss': 7.8319, 'learning_rate': 1.9514000000000003e-05, 'epoch': 0.02}\n",
      "\u001b[36m(RayTrainWorker pid=27656)\u001b[0m {'loss': 7.8319, 'learning_rate': 1.9514000000000003e-05, 'epoch': 0.02}\n"
     ]
    },
    {
     "name": "stderr",
     "output_type": "stream",
     "text": [
      "  2%|▏         | 244/10000 [00:23<1:18:35,  2.07it/s]\n",
      "  2%|▏         | 244/10000 [00:22<1:18:22,  2.07it/s]\n"
     ]
    },
    {
     "name": "stdout",
     "output_type": "stream",
     "text": [
      "\u001b[36m(RayTrainWorker pid=3755, ip=10.208.0.196)\u001b[0m {'loss': 9.0356, 'learning_rate': 1.9512000000000002e-05, 'epoch': 0.02}\n",
      "\u001b[36m(RayTrainWorker pid=27656)\u001b[0m {'loss': 9.0356, 'learning_rate': 1.9512000000000002e-05, 'epoch': 0.02}\n"
     ]
    },
    {
     "name": "stderr",
     "output_type": "stream",
     "text": [
      "  2%|▏         | 245/10000 [00:23<1:18:49,  2.06it/s]\n",
      "  2%|▏         | 245/10000 [00:23<1:18:40,  2.07it/s]\n"
     ]
    },
    {
     "name": "stdout",
     "output_type": "stream",
     "text": [
      "\u001b[36m(RayTrainWorker pid=3755, ip=10.208.0.196)\u001b[0m {'loss': 8.3296, 'learning_rate': 1.951e-05, 'epoch': 0.02}\n",
      "\u001b[36m(RayTrainWorker pid=27656)\u001b[0m {'loss': 8.3296, 'learning_rate': 1.951e-05, 'epoch': 0.02}\n"
     ]
    },
    {
     "name": "stderr",
     "output_type": "stream",
     "text": [
      "  2%|▏         | 246/10000 [00:24<1:18:46,  2.06it/s]\n",
      "  2%|▏         | 246/10000 [00:23<1:18:39,  2.07it/s]\n"
     ]
    },
    {
     "name": "stdout",
     "output_type": "stream",
     "text": [
      "\u001b[36m(RayTrainWorker pid=3755, ip=10.208.0.196)\u001b[0m {'loss': 8.858, 'learning_rate': 1.9508000000000004e-05, 'epoch': 0.02}\n",
      "\u001b[36m(RayTrainWorker pid=27656)\u001b[0m {'loss': 8.858, 'learning_rate': 1.9508000000000004e-05, 'epoch': 0.02}\n"
     ]
    },
    {
     "name": "stderr",
     "output_type": "stream",
     "text": [
      "  2%|▏         | 247/10000 [00:24<1:18:44,  2.06it/s]\n",
      "  2%|▏         | 247/10000 [00:24<1:18:40,  2.07it/s]\n"
     ]
    },
    {
     "name": "stdout",
     "output_type": "stream",
     "text": [
      "\u001b[36m(RayTrainWorker pid=3755, ip=10.208.0.196)\u001b[0m {'loss': 8.3689, 'learning_rate': 1.9506e-05, 'epoch': 0.02}\n",
      "\u001b[36m(RayTrainWorker pid=27656)\u001b[0m {'loss': 8.3689, 'learning_rate': 1.9506e-05, 'epoch': 0.02}\n",
      "\u001b[36m(RayTrainWorker pid=3755, ip=10.208.0.196)\u001b[0m {'loss': 8.6, 'learning_rate': 1.9504e-05, 'epoch': 0.02}\n",
      "\u001b[36m(RayTrainWorker pid=27656)\u001b[0m {'loss': 8.6, 'learning_rate': 1.9504e-05, 'epoch': 0.02}\n"
     ]
    },
    {
     "name": "stderr",
     "output_type": "stream",
     "text": [
      "  2%|▏         | 248/10000 [00:25<1:18:55,  2.06it/s]\n",
      "  2%|▏         | 248/10000 [00:24<1:18:52,  2.06it/s]\n",
      "  2%|▏         | 249/10000 [00:25<1:19:30,  2.04it/s]\n",
      "  2%|▏         | 249/10000 [00:25<1:19:28,  2.04it/s]\n"
     ]
    },
    {
     "name": "stdout",
     "output_type": "stream",
     "text": [
      "\u001b[36m(RayTrainWorker pid=3755, ip=10.208.0.196)\u001b[0m {'loss': 8.9289, 'learning_rate': 1.9502e-05, 'epoch': 0.02}\n",
      "\u001b[36m(RayTrainWorker pid=27656)\u001b[0m {'loss': 8.9289, 'learning_rate': 1.9502e-05, 'epoch': 0.02}\n"
     ]
    },
    {
     "name": "stderr",
     "output_type": "stream",
     "text": [
      "  2%|▎         | 250/10000 [00:25<1:19:15,  2.05it/s]\n",
      "  2%|▎         | 250/10000 [00:25<1:19:13,  2.05it/s]\n"
     ]
    },
    {
     "name": "stdout",
     "output_type": "stream",
     "text": [
      "\u001b[36m(RayTrainWorker pid=3755, ip=10.208.0.196)\u001b[0m {'loss': 7.1597, 'learning_rate': 1.95e-05, 'epoch': 0.02}\n",
      "\u001b[36m(RayTrainWorker pid=27656)\u001b[0m {'loss': 7.1597, 'learning_rate': 1.95e-05, 'epoch': 0.02}\n",
      "\u001b[36m(RayTrainWorker pid=27656)\u001b[0m {'loss': 8.7883, 'learning_rate': 1.9498000000000002e-05, 'epoch': 0.02}\n",
      "\u001b[36m(RayTrainWorker pid=3755, ip=10.208.0.196)\u001b[0m {'loss': 8.7883, 'learning_rate': 1.9498000000000002e-05, 'epoch': 0.02}\n"
     ]
    },
    {
     "name": "stderr",
     "output_type": "stream",
     "text": [
      "  3%|▎         | 251/10000 [00:26<1:19:03,  2.06it/s]\n",
      "  3%|▎         | 251/10000 [00:26<1:19:04,  2.05it/s]\n",
      "  3%|▎         | 252/10000 [00:26<1:18:57,  2.06it/s]\n",
      "  3%|▎         | 252/10000 [00:26<1:18:56,  2.06it/s]\n"
     ]
    },
    {
     "name": "stdout",
     "output_type": "stream",
     "text": [
      "\u001b[36m(RayTrainWorker pid=3755, ip=10.208.0.196)\u001b[0m {'loss': 7.4233, 'learning_rate': 1.9496e-05, 'epoch': 0.02}\n",
      "\u001b[36m(RayTrainWorker pid=27656)\u001b[0m {'loss': 7.4233, 'learning_rate': 1.9496e-05, 'epoch': 0.02}\n"
     ]
    },
    {
     "name": "stderr",
     "output_type": "stream",
     "text": [
      "  3%|▎         | 253/10000 [00:27<1:19:04,  2.05it/s]\n",
      "  3%|▎         | 253/10000 [00:27<1:19:03,  2.05it/s]\n"
     ]
    },
    {
     "name": "stdout",
     "output_type": "stream",
     "text": [
      "\u001b[36m(RayTrainWorker pid=3755, ip=10.208.0.196)\u001b[0m {'loss': 7.8297, 'learning_rate': 1.9494000000000003e-05, 'epoch': 0.02}\n",
      "\u001b[36m(RayTrainWorker pid=27656)\u001b[0m {'loss': 7.8297, 'learning_rate': 1.9494000000000003e-05, 'epoch': 0.02}\n"
     ]
    },
    {
     "name": "stderr",
     "output_type": "stream",
     "text": [
      "  3%|▎         | 254/10000 [00:27<1:18:54,  2.06it/s]\n",
      "  3%|▎         | 254/10000 [00:27<1:18:54,  2.06it/s]\n",
      "  3%|▎         | 254/10000 [00:27<1:18:54,  2.06it/s]\n"
     ]
    },
    {
     "name": "stdout",
     "output_type": "stream",
     "text": [
      "\u001b[36m(RayTrainWorker pid=27656)\u001b[0m {'loss': 9.4743, 'learning_rate': 1.9492000000000002e-05, 'epoch': 0.02}\n",
      "\u001b[36m(RayTrainWorker pid=3755, ip=10.208.0.196)\u001b[0m {'loss': 9.4743, 'learning_rate': 1.9492000000000002e-05, 'epoch': 0.02}\n"
     ]
    },
    {
     "name": "stderr",
     "output_type": "stream",
     "text": [
      "  3%|▎         | 255/10000 [00:28<1:19:01,  2.06it/s]\n",
      "  3%|▎         | 255/10000 [00:28<1:19:01,  2.06it/s]\n"
     ]
    },
    {
     "name": "stdout",
     "output_type": "stream",
     "text": [
      "\u001b[36m(RayTrainWorker pid=3755, ip=10.208.0.196)\u001b[0m {'loss': 7.5681, 'learning_rate': 1.949e-05, 'epoch': 0.02}\n",
      "\u001b[36m(RayTrainWorker pid=27656)\u001b[0m {'loss': 7.5681, 'learning_rate': 1.949e-05, 'epoch': 0.02}\n"
     ]
    },
    {
     "name": "stderr",
     "output_type": "stream",
     "text": [
      "  3%|▎         | 256/10000 [00:28<1:18:41,  2.06it/s]\n",
      "  3%|▎         | 256/10000 [00:28<1:18:41,  2.06it/s]\n"
     ]
    },
    {
     "name": "stdout",
     "output_type": "stream",
     "text": [
      "\u001b[36m(RayTrainWorker pid=3755, ip=10.208.0.196)\u001b[0m {'loss': 8.4377, 'learning_rate': 1.9488000000000004e-05, 'epoch': 0.02}\n",
      "\u001b[36m(RayTrainWorker pid=27656)\u001b[0m {'loss': 8.4377, 'learning_rate': 1.9488000000000004e-05, 'epoch': 0.02}\n"
     ]
    },
    {
     "name": "stderr",
     "output_type": "stream",
     "text": [
      "  3%|▎         | 257/10000 [00:29<1:19:06,  2.05it/s]\n",
      "  3%|▎         | 257/10000 [00:29<1:19:05,  2.05it/s]\n"
     ]
    },
    {
     "name": "stdout",
     "output_type": "stream",
     "text": [
      "\u001b[36m(RayTrainWorker pid=3755, ip=10.208.0.196)\u001b[0m {'loss': 8.8339, 'learning_rate': 1.9486000000000003e-05, 'epoch': 0.02}\n",
      "\u001b[36m(RayTrainWorker pid=27656)\u001b[0m {'loss': 8.8339, 'learning_rate': 1.9486000000000003e-05, 'epoch': 0.02}\n"
     ]
    },
    {
     "name": "stderr",
     "output_type": "stream",
     "text": [
      "  3%|▎         | 258/10000 [00:29<1:19:22,  2.05it/s]\n",
      "  3%|▎         | 258/10000 [00:29<1:19:22,  2.05it/s]\n",
      "  3%|▎         | 258/10000 [00:29<1:19:22,  2.05it/s]\n"
     ]
    },
    {
     "name": "stdout",
     "output_type": "stream",
     "text": [
      "\u001b[36m(RayTrainWorker pid=27656)\u001b[0m {'loss': 9.0077, 'learning_rate': 1.9484000000000002e-05, 'epoch': 0.02}\n",
      "\u001b[36m(RayTrainWorker pid=3755, ip=10.208.0.196)\u001b[0m {'loss': 9.0077, 'learning_rate': 1.9484000000000002e-05, 'epoch': 0.02}\n"
     ]
    },
    {
     "name": "stderr",
     "output_type": "stream",
     "text": [
      "  3%|▎         | 259/10000 [00:30<1:19:12,  2.05it/s]\n",
      "  3%|▎         | 259/10000 [00:30<1:19:12,  2.05it/s]\n"
     ]
    },
    {
     "name": "stdout",
     "output_type": "stream",
     "text": [
      "\u001b[36m(RayTrainWorker pid=3755, ip=10.208.0.196)\u001b[0m {'loss': 7.2915, 'learning_rate': 1.9482e-05, 'epoch': 0.02}\n",
      "\u001b[36m(RayTrainWorker pid=27656)\u001b[0m {'loss': 7.2915, 'learning_rate': 1.9482e-05, 'epoch': 0.02}\n"
     ]
    },
    {
     "name": "stderr",
     "output_type": "stream",
     "text": [
      "  3%|▎         | 260/10000 [00:30<1:19:01,  2.05it/s]\n",
      "  3%|▎         | 260/10000 [00:30<1:19:01,  2.05it/s]\n"
     ]
    },
    {
     "name": "stdout",
     "output_type": "stream",
     "text": [
      "\u001b[36m(RayTrainWorker pid=3755, ip=10.208.0.196)\u001b[0m {'loss': 8.7518, 'learning_rate': 1.948e-05, 'epoch': 0.03}\n",
      "\u001b[36m(RayTrainWorker pid=27656)\u001b[0m {'loss': 8.7518, 'learning_rate': 1.948e-05, 'epoch': 0.03}\n"
     ]
    },
    {
     "name": "stderr",
     "output_type": "stream",
     "text": [
      "  3%|▎         | 261/10000 [00:31<1:18:38,  2.06it/s]\n",
      "  3%|▎         | 261/10000 [00:31<1:18:38,  2.06it/s]\n",
      "  3%|▎         | 261/10000 [00:31<1:18:38,  2.06it/s]\n"
     ]
    },
    {
     "name": "stdout",
     "output_type": "stream",
     "text": [
      "\u001b[36m(RayTrainWorker pid=3755, ip=10.208.0.196)\u001b[0m {'loss': 7.4497, 'learning_rate': 1.9478000000000002e-05, 'epoch': 0.03}\n",
      "\u001b[36m(RayTrainWorker pid=27656)\u001b[0m {'loss': 7.4497, 'learning_rate': 1.9478000000000002e-05, 'epoch': 0.03}\n"
     ]
    },
    {
     "name": "stderr",
     "output_type": "stream",
     "text": [
      "  3%|▎         | 262/10000 [00:31<1:18:50,  2.06it/s]\n",
      "  3%|▎         | 262/10000 [00:31<1:18:49,  2.06it/s]\n"
     ]
    },
    {
     "name": "stdout",
     "output_type": "stream",
     "text": [
      "\u001b[36m(RayTrainWorker pid=3755, ip=10.208.0.196)\u001b[0m {'loss': 7.4732, 'learning_rate': 1.9476e-05, 'epoch': 0.03}\n",
      "\u001b[36m(RayTrainWorker pid=27656)\u001b[0m {'loss': 7.4732, 'learning_rate': 1.9476e-05, 'epoch': 0.03}\n"
     ]
    },
    {
     "name": "stderr",
     "output_type": "stream",
     "text": [
      "  3%|▎         | 263/10000 [00:32<1:19:14,  2.05it/s]\n",
      "  3%|▎         | 263/10000 [00:32<1:19:14,  2.05it/s]\n"
     ]
    },
    {
     "name": "stdout",
     "output_type": "stream",
     "text": [
      "\u001b[36m(RayTrainWorker pid=3755, ip=10.208.0.196)\u001b[0m {'loss': 7.5096, 'learning_rate': 1.9474e-05, 'epoch': 0.03}\n",
      "\u001b[36m(RayTrainWorker pid=27656)\u001b[0m {'loss': 7.5096, 'learning_rate': 1.9474e-05, 'epoch': 0.03}\n",
      "\u001b[36m(RayTrainWorker pid=27656)\u001b[0m {'loss': 7.9916, 'learning_rate': 1.9472000000000003e-05, 'epoch': 0.03}\n",
      "\u001b[36m(RayTrainWorker pid=3755, ip=10.208.0.196)\u001b[0m {'loss': 7.9916, 'learning_rate': 1.9472000000000003e-05, 'epoch': 0.03}\n"
     ]
    },
    {
     "name": "stderr",
     "output_type": "stream",
     "text": [
      "  3%|▎         | 264/10000 [00:32<1:19:04,  2.05it/s]\n",
      "  3%|▎         | 264/10000 [00:32<1:19:04,  2.05it/s]\n",
      "  3%|▎         | 265/10000 [00:33<1:19:24,  2.04it/s]\n",
      "  3%|▎         | 265/10000 [00:33<1:19:24,  2.04it/s]\n"
     ]
    },
    {
     "name": "stdout",
     "output_type": "stream",
     "text": [
      "\u001b[36m(RayTrainWorker pid=3755, ip=10.208.0.196)\u001b[0m {'loss': 8.4681, 'learning_rate': 1.947e-05, 'epoch': 0.03}\n",
      "\u001b[36m(RayTrainWorker pid=27656)\u001b[0m {'loss': 8.4681, 'learning_rate': 1.947e-05, 'epoch': 0.03}\n"
     ]
    },
    {
     "name": "stderr",
     "output_type": "stream",
     "text": [
      "  3%|▎         | 266/10000 [00:33<1:19:38,  2.04it/s]\n",
      "  3%|▎         | 266/10000 [00:33<1:19:38,  2.04it/s]\n"
     ]
    },
    {
     "name": "stdout",
     "output_type": "stream",
     "text": [
      "\u001b[36m(RayTrainWorker pid=3755, ip=10.208.0.196)\u001b[0m {'loss': 8.6494, 'learning_rate': 1.9468000000000004e-05, 'epoch': 0.03}\n",
      "\u001b[36m(RayTrainWorker pid=27656)\u001b[0m {'loss': 8.6494, 'learning_rate': 1.9468000000000004e-05, 'epoch': 0.03}\n"
     ]
    },
    {
     "name": "stderr",
     "output_type": "stream",
     "text": [
      "  3%|▎         | 267/10000 [00:34<1:19:57,  2.03it/s]\n",
      "  3%|▎         | 267/10000 [00:34<1:19:57,  2.03it/s]\n"
     ]
    },
    {
     "name": "stdout",
     "output_type": "stream",
     "text": [
      "\u001b[36m(RayTrainWorker pid=3755, ip=10.208.0.196)\u001b[0m {'loss': 7.8276, 'learning_rate': 1.9466000000000003e-05, 'epoch': 0.03}\n",
      "\u001b[36m(RayTrainWorker pid=27656)\u001b[0m {'loss': 7.8276, 'learning_rate': 1.9466000000000003e-05, 'epoch': 0.03}\n"
     ]
    },
    {
     "name": "stderr",
     "output_type": "stream",
     "text": [
      "  3%|▎         | 268/10000 [00:34<1:20:27,  2.02it/s]\n",
      "  3%|▎         | 268/10000 [00:34<1:20:27,  2.02it/s]\n"
     ]
    },
    {
     "name": "stdout",
     "output_type": "stream",
     "text": [
      "\u001b[36m(RayTrainWorker pid=3755, ip=10.208.0.196)\u001b[0m {'loss': 8.5901, 'learning_rate': 1.9464000000000002e-05, 'epoch': 0.03}\n",
      "\u001b[36m(RayTrainWorker pid=27656)\u001b[0m {'loss': 8.5901, 'learning_rate': 1.9464000000000002e-05, 'epoch': 0.03}\n",
      "\u001b[36m(RayTrainWorker pid=27656)\u001b[0m {'loss': 9.7444, 'learning_rate': 1.9462e-05, 'epoch': 0.03}\n",
      "\u001b[36m(RayTrainWorker pid=3755, ip=10.208.0.196)\u001b[0m {'loss': 9.7444, 'learning_rate': 1.9462e-05, 'epoch': 0.03}\n"
     ]
    },
    {
     "name": "stderr",
     "output_type": "stream",
     "text": [
      "  3%|▎         | 269/10000 [00:35<1:20:04,  2.03it/s]\n",
      "  3%|▎         | 269/10000 [00:35<1:20:04,  2.03it/s]\n",
      "  3%|▎         | 270/10000 [00:35<1:19:49,  2.03it/s]\n",
      "  3%|▎         | 270/10000 [00:35<1:19:49,  2.03it/s]\n"
     ]
    },
    {
     "name": "stdout",
     "output_type": "stream",
     "text": [
      "\u001b[36m(RayTrainWorker pid=3755, ip=10.208.0.196)\u001b[0m {'loss': 8.0812, 'learning_rate': 1.946e-05, 'epoch': 0.03}\n",
      "\u001b[36m(RayTrainWorker pid=27656)\u001b[0m {'loss': 8.0812, 'learning_rate': 1.946e-05, 'epoch': 0.03}\n"
     ]
    },
    {
     "name": "stderr",
     "output_type": "stream",
     "text": [
      "  3%|▎         | 271/10000 [00:36<1:19:51,  2.03it/s]\n",
      "  3%|▎         | 271/10000 [00:36<1:19:51,  2.03it/s]\n"
     ]
    },
    {
     "name": "stdout",
     "output_type": "stream",
     "text": [
      "\u001b[36m(RayTrainWorker pid=3755, ip=10.208.0.196)\u001b[0m {'loss': 8.667, 'learning_rate': 1.9458000000000002e-05, 'epoch': 0.03}\n",
      "\u001b[36m(RayTrainWorker pid=27656)\u001b[0m {'loss': 8.667, 'learning_rate': 1.9458000000000002e-05, 'epoch': 0.03}\n"
     ]
    },
    {
     "name": "stderr",
     "output_type": "stream",
     "text": [
      "  3%|▎         | 272/10000 [00:36<1:19:52,  2.03it/s]\n",
      "  3%|▎         | 272/10000 [00:36<1:19:52,  2.03it/s]\n",
      "  3%|▎         | 272/10000 [00:36<1:19:52,  2.03it/s]\n"
     ]
    },
    {
     "name": "stdout",
     "output_type": "stream",
     "text": [
      "\u001b[36m(RayTrainWorker pid=3755, ip=10.208.0.196)\u001b[0m {'loss': 8.6628, 'learning_rate': 1.9456e-05, 'epoch': 0.03}\n",
      "\u001b[36m(RayTrainWorker pid=27656)\u001b[0m {'loss': 8.6628, 'learning_rate': 1.9456e-05, 'epoch': 0.03}\n"
     ]
    },
    {
     "name": "stderr",
     "output_type": "stream",
     "text": [
      "  3%|▎         | 273/10000 [00:37<1:19:43,  2.03it/s]\n",
      "  3%|▎         | 273/10000 [00:37<1:19:43,  2.03it/s]\n",
      "  3%|▎         | 273/10000 [00:37<1:19:43,  2.03it/s]\n"
     ]
    },
    {
     "name": "stdout",
     "output_type": "stream",
     "text": [
      "\u001b[36m(RayTrainWorker pid=27656)\u001b[0m {'loss': 8.2923, 'learning_rate': 1.9454e-05, 'epoch': 0.03}\n",
      "\u001b[36m(RayTrainWorker pid=3755, ip=10.208.0.196)\u001b[0m {'loss': 8.2923, 'learning_rate': 1.9454e-05, 'epoch': 0.03}\n"
     ]
    },
    {
     "name": "stderr",
     "output_type": "stream",
     "text": [
      "  3%|▎         | 274/10000 [00:37<1:19:33,  2.04it/s]\n",
      "  3%|▎         | 274/10000 [00:37<1:19:33,  2.04it/s]\n"
     ]
    },
    {
     "name": "stdout",
     "output_type": "stream",
     "text": [
      "\u001b[36m(RayTrainWorker pid=3755, ip=10.208.0.196)\u001b[0m {'loss': 8.3337, 'learning_rate': 1.9452000000000003e-05, 'epoch': 0.03}\n",
      "\u001b[36m(RayTrainWorker pid=27656)\u001b[0m {'loss': 8.3337, 'learning_rate': 1.9452000000000003e-05, 'epoch': 0.03}\n"
     ]
    },
    {
     "name": "stderr",
     "output_type": "stream",
     "text": [
      "  3%|▎         | 275/10000 [00:38<1:19:26,  2.04it/s]\n",
      "  3%|▎         | 275/10000 [00:38<1:19:27,  2.04it/s]\n"
     ]
    },
    {
     "name": "stdout",
     "output_type": "stream",
     "text": [
      "\u001b[36m(RayTrainWorker pid=3755, ip=10.208.0.196)\u001b[0m {'loss': 7.5583, 'learning_rate': 1.9450000000000002e-05, 'epoch': 0.03}\n",
      "\u001b[36m(RayTrainWorker pid=27656)\u001b[0m {'loss': 7.5583, 'learning_rate': 1.9450000000000002e-05, 'epoch': 0.03}\n",
      "\u001b[36m(RayTrainWorker pid=27656)\u001b[0m {'loss': 8.9699, 'learning_rate': 1.9448e-05, 'epoch': 0.03}\n",
      "\u001b[36m(RayTrainWorker pid=3755, ip=10.208.0.196)\u001b[0m {'loss': 8.9699, 'learning_rate': 1.9448e-05, 'epoch': 0.03}\n"
     ]
    },
    {
     "name": "stderr",
     "output_type": "stream",
     "text": [
      "  3%|▎         | 276/10000 [00:38<1:19:21,  2.04it/s]\n",
      "  3%|▎         | 276/10000 [00:38<1:19:21,  2.04it/s]\n",
      "  3%|▎         | 277/10000 [00:39<1:19:47,  2.03it/s]\n",
      "  3%|▎         | 277/10000 [00:39<1:19:47,  2.03it/s]\n"
     ]
    },
    {
     "name": "stdout",
     "output_type": "stream",
     "text": [
      "\u001b[36m(RayTrainWorker pid=3755, ip=10.208.0.196)\u001b[0m {'loss': 7.1147, 'learning_rate': 1.9446000000000003e-05, 'epoch': 0.03}\n",
      "\u001b[36m(RayTrainWorker pid=27656)\u001b[0m {'loss': 7.1147, 'learning_rate': 1.9446000000000003e-05, 'epoch': 0.03}\n"
     ]
    },
    {
     "name": "stderr",
     "output_type": "stream",
     "text": [
      "  3%|▎         | 278/10000 [00:39<1:19:09,  2.05it/s]\n",
      "  3%|▎         | 278/10000 [00:39<1:19:08,  2.05it/s]\n"
     ]
    },
    {
     "name": "stdout",
     "output_type": "stream",
     "text": [
      "\u001b[36m(RayTrainWorker pid=3755, ip=10.208.0.196)\u001b[0m {'loss': 8.7061, 'learning_rate': 1.9444000000000002e-05, 'epoch': 0.03}\n",
      "\u001b[36m(RayTrainWorker pid=27656)\u001b[0m {'loss': 8.7061, 'learning_rate': 1.9444000000000002e-05, 'epoch': 0.03}\n",
      "\u001b[36m(RayTrainWorker pid=27656)\u001b[0m {'loss': 9.0251, 'learning_rate': 1.9442e-05, 'epoch': 0.03}\n",
      "\u001b[36m(RayTrainWorker pid=3755, ip=10.208.0.196)\u001b[0m {'loss': 9.0251, 'learning_rate': 1.9442e-05, 'epoch': 0.03}\n"
     ]
    },
    {
     "name": "stderr",
     "output_type": "stream",
     "text": [
      "  3%|▎         | 279/10000 [00:40<1:19:14,  2.04it/s]\n",
      "  3%|▎         | 279/10000 [00:40<1:19:14,  2.04it/s]\n",
      "  3%|▎         | 280/10000 [00:40<1:18:46,  2.06it/s]\n",
      "  3%|▎         | 280/10000 [00:40<1:18:46,  2.06it/s]\n"
     ]
    },
    {
     "name": "stdout",
     "output_type": "stream",
     "text": [
      "\u001b[36m(RayTrainWorker pid=3755, ip=10.208.0.196)\u001b[0m {'loss': 7.7488, 'learning_rate': 1.944e-05, 'epoch': 0.03}\n",
      "\u001b[36m(RayTrainWorker pid=27656)\u001b[0m {'loss': 7.7488, 'learning_rate': 1.944e-05, 'epoch': 0.03}\n"
     ]
    },
    {
     "name": "stderr",
     "output_type": "stream",
     "text": [
      "  3%|▎         | 281/10000 [00:41<1:18:40,  2.06it/s]\n",
      "  3%|▎         | 281/10000 [00:41<1:18:39,  2.06it/s]\n"
     ]
    },
    {
     "name": "stdout",
     "output_type": "stream",
     "text": [
      "\u001b[36m(RayTrainWorker pid=3755, ip=10.208.0.196)\u001b[0m {'loss': 9.1494, 'learning_rate': 1.9438000000000003e-05, 'epoch': 0.03}\n",
      "\u001b[36m(RayTrainWorker pid=27656)\u001b[0m {'loss': 9.1494, 'learning_rate': 1.9438000000000003e-05, 'epoch': 0.03}\n"
     ]
    },
    {
     "name": "stderr",
     "output_type": "stream",
     "text": [
      "  3%|▎         | 282/10000 [00:41<1:19:16,  2.04it/s]\n",
      "  3%|▎         | 282/10000 [00:41<1:19:13,  2.04it/s]\n"
     ]
    },
    {
     "name": "stdout",
     "output_type": "stream",
     "text": [
      "\u001b[36m(RayTrainWorker pid=3755, ip=10.208.0.196)\u001b[0m {'loss': 7.6291, 'learning_rate': 1.9436e-05, 'epoch': 0.03}\n",
      "\u001b[36m(RayTrainWorker pid=27656)\u001b[0m {'loss': 7.6291, 'learning_rate': 1.9436e-05, 'epoch': 0.03}\n",
      "\u001b[36m(RayTrainWorker pid=27656)\u001b[0m {'loss': 9.0606, 'learning_rate': 1.9434e-05, 'epoch': 0.03}\n",
      "\u001b[36m(RayTrainWorker pid=3755, ip=10.208.0.196)\u001b[0m {'loss': 9.0606, 'learning_rate': 1.9434e-05, 'epoch': 0.03}\n"
     ]
    },
    {
     "name": "stderr",
     "output_type": "stream",
     "text": [
      "  3%|▎         | 283/10000 [00:42<1:19:06,  2.05it/s]\n",
      "  3%|▎         | 283/10000 [00:42<1:19:06,  2.05it/s]\n",
      "  3%|▎         | 284/10000 [00:42<1:19:19,  2.04it/s]\n",
      "  3%|▎         | 284/10000 [00:42<1:19:21,  2.04it/s]\n"
     ]
    },
    {
     "name": "stdout",
     "output_type": "stream",
     "text": [
      "\u001b[36m(RayTrainWorker pid=3755, ip=10.208.0.196)\u001b[0m {'loss': 9.293, 'learning_rate': 1.9432000000000003e-05, 'epoch': 0.03}\n",
      "\u001b[36m(RayTrainWorker pid=27656)\u001b[0m {'loss': 9.293, 'learning_rate': 1.9432000000000003e-05, 'epoch': 0.03}\n"
     ]
    },
    {
     "name": "stderr",
     "output_type": "stream",
     "text": [
      "  3%|▎         | 285/10000 [00:43<1:19:21,  2.04it/s]\n",
      "  3%|▎         | 285/10000 [00:42<1:19:21,  2.04it/s]\n"
     ]
    },
    {
     "name": "stdout",
     "output_type": "stream",
     "text": [
      "\u001b[36m(RayTrainWorker pid=3755, ip=10.208.0.196)\u001b[0m {'loss': 9.9007, 'learning_rate': 1.9430000000000002e-05, 'epoch': 0.03}\n",
      "\u001b[36m(RayTrainWorker pid=27656)\u001b[0m {'loss': 9.9007, 'learning_rate': 1.9430000000000002e-05, 'epoch': 0.03}\n"
     ]
    },
    {
     "name": "stderr",
     "output_type": "stream",
     "text": [
      "  3%|▎         | 286/10000 [00:43<1:19:15,  2.04it/s]\n",
      "  3%|▎         | 286/10000 [00:43<1:19:15,  2.04it/s]\n",
      "  3%|▎         | 286/10000 [00:43<1:19:16,  2.04it/s]\n"
     ]
    },
    {
     "name": "stdout",
     "output_type": "stream",
     "text": [
      "\u001b[36m(RayTrainWorker pid=27656)\u001b[0m {'loss': 8.4425, 'learning_rate': 1.9428e-05, 'epoch': 0.03}\n",
      "\u001b[36m(RayTrainWorker pid=3755, ip=10.208.0.196)\u001b[0m {'loss': 8.4425, 'learning_rate': 1.9428e-05, 'epoch': 0.03}\n"
     ]
    },
    {
     "name": "stderr",
     "output_type": "stream",
     "text": [
      "  3%|▎         | 287/10000 [00:44<1:18:58,  2.05it/s]\n",
      "  3%|▎         | 287/10000 [00:43<1:18:58,  2.05it/s]\n",
      "  3%|▎         | 287/10000 [00:44<1:18:58,  2.05it/s]\n"
     ]
    },
    {
     "name": "stdout",
     "output_type": "stream",
     "text": [
      "\u001b[36m(RayTrainWorker pid=27656)\u001b[0m {'loss': 7.9128, 'learning_rate': 1.9426000000000003e-05, 'epoch': 0.03}\n",
      "\u001b[36m(RayTrainWorker pid=3755, ip=10.208.0.196)\u001b[0m {'loss': 7.9128, 'learning_rate': 1.9426000000000003e-05, 'epoch': 0.03}\n"
     ]
    },
    {
     "name": "stderr",
     "output_type": "stream",
     "text": [
      "  3%|▎         | 288/10000 [00:44<1:19:26,  2.04it/s]\n",
      "  3%|▎         | 288/10000 [00:44<1:19:25,  2.04it/s]\n"
     ]
    },
    {
     "name": "stdout",
     "output_type": "stream",
     "text": [
      "\u001b[36m(RayTrainWorker pid=3755, ip=10.208.0.196)\u001b[0m {'loss': 9.0275, 'learning_rate': 1.9424e-05, 'epoch': 0.03}\n",
      "\u001b[36m(RayTrainWorker pid=27656)\u001b[0m {'loss': 9.0275, 'learning_rate': 1.9424e-05, 'epoch': 0.03}\n",
      "\u001b[36m(RayTrainWorker pid=3755, ip=10.208.0.196)\u001b[0m {'loss': 9.1665, 'learning_rate': 1.9422e-05, 'epoch': 0.03}\n"
     ]
    },
    {
     "name": "stderr",
     "output_type": "stream",
     "text": [
      "  3%|▎         | 289/10000 [00:45<1:19:06,  2.05it/s]\n",
      "  3%|▎         | 289/10000 [00:44<1:19:06,  2.05it/s]\n"
     ]
    },
    {
     "name": "stdout",
     "output_type": "stream",
     "text": [
      "\u001b[36m(RayTrainWorker pid=27656)\u001b[0m {'loss': 9.1665, 'learning_rate': 1.9422e-05, 'epoch': 0.03}\n",
      "\u001b[36m(RayTrainWorker pid=27656)\u001b[0m {'loss': 7.7747, 'learning_rate': 1.942e-05, 'epoch': 0.03}\n",
      "\u001b[36m(RayTrainWorker pid=3755, ip=10.208.0.196)\u001b[0m {'loss': 7.7747, 'learning_rate': 1.942e-05, 'epoch': 0.03}\n"
     ]
    },
    {
     "name": "stderr",
     "output_type": "stream",
     "text": [
      "  3%|▎         | 290/10000 [00:45<1:18:45,  2.05it/s]\n",
      "  3%|▎         | 290/10000 [00:45<1:18:45,  2.05it/s]\n",
      "  3%|▎         | 291/10000 [00:46<1:18:46,  2.05it/s]\n",
      "  3%|▎         | 291/10000 [00:45<1:18:46,  2.05it/s]\n"
     ]
    },
    {
     "name": "stdout",
     "output_type": "stream",
     "text": [
      "\u001b[36m(RayTrainWorker pid=3755, ip=10.208.0.196)\u001b[0m {'loss': 9.8701, 'learning_rate': 1.9418000000000003e-05, 'epoch': 0.03}\n",
      "\u001b[36m(RayTrainWorker pid=27656)\u001b[0m {'loss': 9.8701, 'learning_rate': 1.9418000000000003e-05, 'epoch': 0.03}\n"
     ]
    },
    {
     "name": "stderr",
     "output_type": "stream",
     "text": [
      "  3%|▎         | 292/10000 [00:46<1:18:51,  2.05it/s]\n",
      "  3%|▎         | 292/10000 [00:46<1:18:50,  2.05it/s]\n"
     ]
    },
    {
     "name": "stdout",
     "output_type": "stream",
     "text": [
      "\u001b[36m(RayTrainWorker pid=3755, ip=10.208.0.196)\u001b[0m {'loss': 10.2149, 'learning_rate': 1.9416000000000002e-05, 'epoch': 0.03}\n",
      "\u001b[36m(RayTrainWorker pid=27656)\u001b[0m {'loss': 10.2149, 'learning_rate': 1.9416000000000002e-05, 'epoch': 0.03}\n",
      "\u001b[36m(RayTrainWorker pid=27656)\u001b[0m {'loss': 9.7446, 'learning_rate': 1.9414e-05, 'epoch': 0.03}\n",
      "\u001b[36m(RayTrainWorker pid=3755, ip=10.208.0.196)\u001b[0m {'loss': 9.7446, 'learning_rate': 1.9414e-05, 'epoch': 0.03}\n"
     ]
    },
    {
     "name": "stderr",
     "output_type": "stream",
     "text": [
      "  3%|▎         | 293/10000 [00:46<1:18:58,  2.05it/s]\n",
      "  3%|▎         | 293/10000 [00:47<1:18:58,  2.05it/s]\n",
      "  3%|▎         | 294/10000 [00:47<1:18:55,  2.05it/s]\n",
      "  3%|▎         | 294/10000 [00:47<1:18:55,  2.05it/s]\n",
      "  3%|▎         | 294/10000 [00:47<1:18:55,  2.05it/s]\n"
     ]
    },
    {
     "name": "stdout",
     "output_type": "stream",
     "text": [
      "\u001b[36m(RayTrainWorker pid=3755, ip=10.208.0.196)\u001b[0m {'loss': 8.3378, 'learning_rate': 1.9412000000000003e-05, 'epoch': 0.03}\n",
      "\u001b[36m(RayTrainWorker pid=27656)\u001b[0m {'loss': 8.3378, 'learning_rate': 1.9412000000000003e-05, 'epoch': 0.03}\n"
     ]
    },
    {
     "name": "stderr",
     "output_type": "stream",
     "text": [
      "  3%|▎         | 295/10000 [00:47<1:18:43,  2.05it/s]\n",
      "  3%|▎         | 295/10000 [00:47<1:18:43,  2.05it/s]\n"
     ]
    },
    {
     "name": "stdout",
     "output_type": "stream",
     "text": [
      "\u001b[36m(RayTrainWorker pid=3755, ip=10.208.0.196)\u001b[0m {'loss': 9.0916, 'learning_rate': 1.9410000000000002e-05, 'epoch': 0.03}\n",
      "\u001b[36m(RayTrainWorker pid=27656)\u001b[0m {'loss': 9.0916, 'learning_rate': 1.9410000000000002e-05, 'epoch': 0.03}\n",
      "\u001b[36m(RayTrainWorker pid=27656)\u001b[0m {'loss': 7.7959, 'learning_rate': 1.9408e-05, 'epoch': 0.03}\n",
      "\u001b[36m(RayTrainWorker pid=3755, ip=10.208.0.196)\u001b[0m {'loss': 7.7959, 'learning_rate': 1.9408e-05, 'epoch': 0.03}\n"
     ]
    },
    {
     "name": "stderr",
     "output_type": "stream",
     "text": [
      "  3%|▎         | 296/10000 [00:48<1:18:35,  2.06it/s]\n",
      "  3%|▎         | 296/10000 [00:48<1:18:35,  2.06it/s]\n",
      "  3%|▎         | 297/10000 [00:48<1:18:39,  2.06it/s]\n",
      "                                                     \n",
      "  3%|▎         | 297/10000 [00:48<1:18:39,  2.06it/s]\n",
      "  3%|▎         | 297/10000 [00:48<1:18:38,  2.06it/s]\n"
     ]
    },
    {
     "name": "stdout",
     "output_type": "stream",
     "text": [
      "\u001b[36m(RayTrainWorker pid=3755, ip=10.208.0.196)\u001b[0m {'loss': 9.613, 'learning_rate': 1.9406000000000004e-05, 'epoch': 0.03}\n",
      "\u001b[36m(RayTrainWorker pid=27656)\u001b[0m {'loss': 9.613, 'learning_rate': 1.9406000000000004e-05, 'epoch': 0.03}\n"
     ]
    },
    {
     "name": "stderr",
     "output_type": "stream",
     "text": [
      "  3%|▎         | 298/10000 [00:49<1:18:31,  2.06it/s]\n",
      "  3%|▎         | 298/10000 [00:49<1:18:31,  2.06it/s]\n"
     ]
    },
    {
     "name": "stdout",
     "output_type": "stream",
     "text": [
      "\u001b[36m(RayTrainWorker pid=3755, ip=10.208.0.196)\u001b[0m {'loss': 7.6405, 'learning_rate': 1.9404e-05, 'epoch': 0.03}\n",
      "\u001b[36m(RayTrainWorker pid=27656)\u001b[0m {'loss': 7.6405, 'learning_rate': 1.9404e-05, 'epoch': 0.03}\n",
      "\u001b[36m(RayTrainWorker pid=3755, ip=10.208.0.196)\u001b[0m {'loss': 9.1571, 'learning_rate': 1.9402e-05, 'epoch': 0.03}\n",
      "\u001b[36m(RayTrainWorker pid=27656)\u001b[0m {'loss': 9.1571, 'learning_rate': 1.9402e-05, 'epoch': 0.03}\n"
     ]
    },
    {
     "name": "stderr",
     "output_type": "stream",
     "text": [
      "  3%|▎         | 299/10000 [00:49<1:19:06,  2.04it/s]\n",
      "  3%|▎         | 299/10000 [00:49<1:19:05,  2.04it/s]\n"
     ]
    },
    {
     "name": "stdout",
     "output_type": "stream",
     "text": [
      "\u001b[36m(RayTrainWorker pid=27656)\u001b[0m {'loss': 9.1075, 'learning_rate': 1.94e-05, 'epoch': 0.03}\n",
      "\u001b[36m(RayTrainWorker pid=3755, ip=10.208.0.196)\u001b[0m {'loss': 9.1075, 'learning_rate': 1.94e-05, 'epoch': 0.03}\n"
     ]
    },
    {
     "name": "stderr",
     "output_type": "stream",
     "text": [
      "  3%|▎         | 300/10000 [00:50<1:19:12,  2.04it/s]\n",
      "  3%|▎         | 300/10000 [00:50<1:19:12,  2.04it/s]\n"
     ]
    },
    {
     "name": "stdout",
     "output_type": "stream",
     "text": [
      "\u001b[36m(RayTrainWorker pid=27656)\u001b[0m {'loss': 5.4585, 'learning_rate': 1.9398e-05, 'epoch': 0.03}\n",
      "\u001b[36m(RayTrainWorker pid=3755, ip=10.208.0.196)\u001b[0m {'loss': 5.4585, 'learning_rate': 1.9398e-05, 'epoch': 0.03}\n"
     ]
    },
    {
     "name": "stderr",
     "output_type": "stream",
     "text": [
      "  3%|▎         | 301/10000 [01:51<50:37:13, 18.79s/it]\n",
      "  3%|▎         | 301/10000 [01:51<50:37:13, 18.79s/it]\n",
      "  3%|▎         | 302/10000 [01:52<35:49:30, 13.30s/it]\n",
      "  3%|▎         | 302/10000 [01:52<35:49:24, 13.30s/it]\n"
     ]
    },
    {
     "name": "stdout",
     "output_type": "stream",
     "text": [
      "\u001b[36m(RayTrainWorker pid=3755, ip=10.208.0.196)\u001b[0m {'loss': 9.2065, 'learning_rate': 1.9396000000000002e-05, 'epoch': 0.03}\n",
      "\u001b[36m(RayTrainWorker pid=27656)\u001b[0m {'loss': 9.2065, 'learning_rate': 1.9396000000000002e-05, 'epoch': 0.03}\n",
      "\u001b[36m(RayTrainWorker pid=27656)\u001b[0m {'loss': 6.8318, 'learning_rate': 1.9394e-05, 'epoch': 0.03}\n",
      "\u001b[36m(RayTrainWorker pid=3755, ip=10.208.0.196)\u001b[0m {'loss': 6.8318, 'learning_rate': 1.9394e-05, 'epoch': 0.03}\n"
     ]
    },
    {
     "name": "stderr",
     "output_type": "stream",
     "text": [
      "  3%|▎         | 303/10000 [01:52<25:28:07,  9.46s/it]\n",
      "  3%|▎         | 303/10000 [01:52<25:28:05,  9.46s/it]\n"
     ]
    },
    {
     "name": "stdout",
     "output_type": "stream",
     "text": [
      "\u001b[36m(RayTrainWorker pid=27656)\u001b[0m {'loss': 9.6835, 'learning_rate': 1.9392000000000003e-05, 'epoch': 0.03}\n",
      "\u001b[36m(RayTrainWorker pid=3755, ip=10.208.0.196)\u001b[0m {'loss': 9.6835, 'learning_rate': 1.9392000000000003e-05, 'epoch': 0.03}\n"
     ]
    },
    {
     "name": "stderr",
     "output_type": "stream",
     "text": [
      "  3%|▎         | 304/10000 [01:53<18:13:17,  6.77s/it]\n",
      "  3%|▎         | 304/10000 [01:53<18:13:15,  6.77s/it]\n"
     ]
    },
    {
     "name": "stdout",
     "output_type": "stream",
     "text": [
      "\u001b[36m(RayTrainWorker pid=27656)\u001b[0m {'loss': 8.2026, 'learning_rate': 1.9390000000000002e-05, 'epoch': 0.03}\n",
      "\u001b[36m(RayTrainWorker pid=3755, ip=10.208.0.196)\u001b[0m {'loss': 8.2026, 'learning_rate': 1.9390000000000002e-05, 'epoch': 0.03}\n"
     ]
    },
    {
     "name": "stderr",
     "output_type": "stream",
     "text": [
      "  3%|▎         | 305/10000 [01:53<13:08:58,  4.88s/it]\n",
      "  3%|▎         | 305/10000 [01:53<13:08:57,  4.88s/it]\n"
     ]
    },
    {
     "name": "stdout",
     "output_type": "stream",
     "text": [
      "\u001b[36m(RayTrainWorker pid=27656)\u001b[0m {'loss': 8.9603, 'learning_rate': 1.9388e-05, 'epoch': 0.03}\n",
      "\u001b[36m(RayTrainWorker pid=3755, ip=10.208.0.196)\u001b[0m {'loss': 8.9603, 'learning_rate': 1.9388e-05, 'epoch': 0.03}\n"
     ]
    },
    {
     "name": "stderr",
     "output_type": "stream",
     "text": [
      "  3%|▎         | 306/10000 [01:54<9:36:22,  3.57s/it]\n",
      "  3%|▎         | 306/10000 [01:54<9:36:21,  3.57s/it]\n"
     ]
    },
    {
     "name": "stdout",
     "output_type": "stream",
     "text": [
      "\u001b[36m(RayTrainWorker pid=27656)\u001b[0m {'loss': 9.4155, 'learning_rate': 1.9386000000000004e-05, 'epoch': 0.03}\n",
      "\u001b[36m(RayTrainWorker pid=3755, ip=10.208.0.196)\u001b[0m {'loss': 9.4155, 'learning_rate': 1.9386000000000004e-05, 'epoch': 0.03}\n"
     ]
    },
    {
     "name": "stderr",
     "output_type": "stream",
     "text": [
      "  3%|▎         | 307/10000 [01:54<7:06:56,  2.64s/it]\n",
      "  3%|▎         | 307/10000 [01:54<7:06:55,  2.64s/it]\n",
      "  3%|▎         | 308/10000 [01:55<5:22:12,  1.99s/it]\n",
      "  3%|▎         | 308/10000 [01:55<5:22:12,  1.99s/it]\n"
     ]
    },
    {
     "name": "stdout",
     "output_type": "stream",
     "text": [
      "\u001b[36m(RayTrainWorker pid=3755, ip=10.208.0.196)\u001b[0m {'loss': 9.3853, 'learning_rate': 1.9384e-05, 'epoch': 0.03}\n",
      "\u001b[36m(RayTrainWorker pid=27656)\u001b[0m {'loss': 9.3853, 'learning_rate': 1.9384e-05, 'epoch': 0.03}\n"
     ]
    },
    {
     "name": "stderr",
     "output_type": "stream",
     "text": [
      "  3%|▎         | 309/10000 [01:55<4:08:45,  1.54s/it]\n",
      "  3%|▎         | 309/10000 [01:55<4:08:45,  1.54s/it]\n"
     ]
    },
    {
     "name": "stdout",
     "output_type": "stream",
     "text": [
      "\u001b[36m(RayTrainWorker pid=3755, ip=10.208.0.196)\u001b[0m {'loss': 8.6325, 'learning_rate': 1.9382000000000002e-05, 'epoch': 0.03}\n",
      "\u001b[36m(RayTrainWorker pid=27656)\u001b[0m {'loss': 8.6325, 'learning_rate': 1.9382000000000002e-05, 'epoch': 0.03}\n"
     ]
    },
    {
     "name": "stderr",
     "output_type": "stream",
     "text": [
      "  3%|▎         | 310/10000 [01:56<3:17:47,  1.22s/it]\n",
      "  3%|▎         | 310/10000 [01:56<3:17:47,  1.22s/it]\n"
     ]
    },
    {
     "name": "stdout",
     "output_type": "stream",
     "text": [
      "\u001b[36m(RayTrainWorker pid=3755, ip=10.208.0.196)\u001b[0m {'loss': 9.1404, 'learning_rate': 1.938e-05, 'epoch': 0.03}\n",
      "\u001b[36m(RayTrainWorker pid=27656)\u001b[0m {'loss': 9.1404, 'learning_rate': 1.938e-05, 'epoch': 0.03}\n"
     ]
    },
    {
     "name": "stderr",
     "output_type": "stream",
     "text": [
      "  3%|▎         | 311/10000 [01:56<2:42:06,  1.00s/it]\n",
      "  3%|▎         | 311/10000 [01:56<2:42:07,  1.00s/it]\n"
     ]
    },
    {
     "name": "stdout",
     "output_type": "stream",
     "text": [
      "\u001b[36m(RayTrainWorker pid=3755, ip=10.208.0.196)\u001b[0m {'loss': 7.7042, 'learning_rate': 1.9378e-05, 'epoch': 0.03}\n",
      "\u001b[36m(RayTrainWorker pid=27656)\u001b[0m {'loss': 7.7042, 'learning_rate': 1.9378e-05, 'epoch': 0.03}\n"
     ]
    },
    {
     "name": "stderr",
     "output_type": "stream",
     "text": [
      "  3%|▎         | 312/10000 [01:57<2:17:24,  1.18it/s]\n",
      "  3%|▎         | 312/10000 [01:57<2:17:21,  1.18it/s]\n"
     ]
    },
    {
     "name": "stdout",
     "output_type": "stream",
     "text": [
      "\u001b[36m(RayTrainWorker pid=3755, ip=10.208.0.196)\u001b[0m {'loss': 9.8231, 'learning_rate': 1.9376000000000002e-05, 'epoch': 0.03}\n",
      "\u001b[36m(RayTrainWorker pid=27656)\u001b[0m {'loss': 9.8231, 'learning_rate': 1.9376000000000002e-05, 'epoch': 0.03}\n"
     ]
    },
    {
     "name": "stderr",
     "output_type": "stream",
     "text": [
      "  3%|▎         | 313/10000 [01:57<1:59:51,  1.35it/s]\n",
      "  3%|▎         | 313/10000 [01:57<1:59:51,  1.35it/s]\n"
     ]
    },
    {
     "name": "stdout",
     "output_type": "stream",
     "text": [
      "\u001b[36m(RayTrainWorker pid=3755, ip=10.208.0.196)\u001b[0m {'loss': 7.6286, 'learning_rate': 1.9374e-05, 'epoch': 0.03}\n",
      "\u001b[36m(RayTrainWorker pid=27656)\u001b[0m {'loss': 7.6286, 'learning_rate': 1.9374e-05, 'epoch': 0.03}\n"
     ]
    },
    {
     "name": "stderr",
     "output_type": "stream",
     "text": [
      "  3%|▎         | 314/10000 [01:58<1:47:33,  1.50it/s]\n",
      "  3%|▎         | 314/10000 [01:58<1:47:33,  1.50it/s]\n"
     ]
    },
    {
     "name": "stdout",
     "output_type": "stream",
     "text": [
      "\u001b[36m(RayTrainWorker pid=3755, ip=10.208.0.196)\u001b[0m {'loss': 8.4122, 'learning_rate': 1.9372000000000004e-05, 'epoch': 0.03}\n",
      "\u001b[36m(RayTrainWorker pid=27656)\u001b[0m {'loss': 8.4122, 'learning_rate': 1.9372000000000004e-05, 'epoch': 0.03}\n"
     ]
    },
    {
     "name": "stderr",
     "output_type": "stream",
     "text": [
      "  3%|▎         | 315/10000 [01:58<1:38:58,  1.63it/s]\n",
      "  3%|▎         | 315/10000 [01:58<1:38:58,  1.63it/s]\n"
     ]
    },
    {
     "name": "stdout",
     "output_type": "stream",
     "text": [
      "\u001b[36m(RayTrainWorker pid=3755, ip=10.208.0.196)\u001b[0m {'loss': 6.8496, 'learning_rate': 1.9370000000000003e-05, 'epoch': 0.03}\n",
      "\u001b[36m(RayTrainWorker pid=27656)\u001b[0m {'loss': 6.8496, 'learning_rate': 1.9370000000000003e-05, 'epoch': 0.03}\n"
     ]
    },
    {
     "name": "stderr",
     "output_type": "stream",
     "text": [
      "  3%|▎         | 316/10000 [01:59<1:33:23,  1.73it/s]\n",
      "  3%|▎         | 316/10000 [01:59<1:33:23,  1.73it/s]\n",
      "  3%|▎         | 316/10000 [01:59<1:33:23,  1.73it/s]\n"
     ]
    },
    {
     "name": "stdout",
     "output_type": "stream",
     "text": [
      "\u001b[36m(RayTrainWorker pid=3755, ip=10.208.0.196)\u001b[0m {'loss': 8.8606, 'learning_rate': 1.9368e-05, 'epoch': 0.03}\n",
      "\u001b[36m(RayTrainWorker pid=27656)\u001b[0m {'loss': 8.8606, 'learning_rate': 1.9368e-05, 'epoch': 0.03}\n"
     ]
    },
    {
     "name": "stderr",
     "output_type": "stream",
     "text": [
      "  3%|▎         | 317/10000 [01:59<1:29:00,  1.81it/s]\n",
      "  3%|▎         | 317/10000 [01:59<1:29:01,  1.81it/s]\n"
     ]
    },
    {
     "name": "stdout",
     "output_type": "stream",
     "text": [
      "\u001b[36m(RayTrainWorker pid=3755, ip=10.208.0.196)\u001b[0m {'loss': 8.1607, 'learning_rate': 1.9366000000000004e-05, 'epoch': 0.03}\n",
      "\u001b[36m(RayTrainWorker pid=27656)\u001b[0m {'loss': 8.1607, 'learning_rate': 1.9366000000000004e-05, 'epoch': 0.03}\n",
      "\u001b[36m(RayTrainWorker pid=3755, ip=10.208.0.196)\u001b[0m {'loss': 8.8248, 'learning_rate': 1.9364e-05, 'epoch': 0.03}\n"
     ]
    },
    {
     "name": "stderr",
     "output_type": "stream",
     "text": [
      "  3%|▎         | 318/10000 [02:00<1:26:09,  1.87it/s]\n",
      "  3%|▎         | 318/10000 [02:00<1:26:10,  1.87it/s]\n"
     ]
    },
    {
     "name": "stdout",
     "output_type": "stream",
     "text": [
      "\u001b[36m(RayTrainWorker pid=27656)\u001b[0m {'loss': 8.8248, 'learning_rate': 1.9364e-05, 'epoch': 0.03}\n"
     ]
    },
    {
     "name": "stderr",
     "output_type": "stream",
     "text": [
      "  3%|▎         | 319/10000 [02:00<1:24:10,  1.92it/s]\n",
      "  3%|▎         | 319/10000 [02:00<1:24:10,  1.92it/s]\n"
     ]
    },
    {
     "name": "stdout",
     "output_type": "stream",
     "text": [
      "\u001b[36m(RayTrainWorker pid=3755, ip=10.208.0.196)\u001b[0m {'loss': 8.2251, 'learning_rate': 1.9362000000000002e-05, 'epoch': 0.03}\n",
      "\u001b[36m(RayTrainWorker pid=27656)\u001b[0m {'loss': 8.2251, 'learning_rate': 1.9362000000000002e-05, 'epoch': 0.03}\n",
      "\u001b[36m(RayTrainWorker pid=27656)\u001b[0m {'loss': 9.0705, 'learning_rate': 1.936e-05, 'epoch': 0.03}\n",
      "\u001b[36m(RayTrainWorker pid=3755, ip=10.208.0.196)\u001b[0m {'loss': 9.0705, 'learning_rate': 1.936e-05, 'epoch': 0.03}\n"
     ]
    },
    {
     "name": "stderr",
     "output_type": "stream",
     "text": [
      "  3%|▎         | 320/10000 [02:01<1:22:58,  1.94it/s]\n",
      "  3%|▎         | 320/10000 [02:01<1:22:58,  1.94it/s]\n",
      "  3%|▎         | 321/10000 [02:01<1:21:18,  1.98it/s]\n",
      "  3%|▎         | 321/10000 [02:01<1:21:18,  1.98it/s]\n"
     ]
    },
    {
     "name": "stdout",
     "output_type": "stream",
     "text": [
      "\u001b[36m(RayTrainWorker pid=3755, ip=10.208.0.196)\u001b[0m {'loss': 8.8017, 'learning_rate': 1.9358e-05, 'epoch': 0.03}\n",
      "\u001b[36m(RayTrainWorker pid=27656)\u001b[0m {'loss': 8.8017, 'learning_rate': 1.9358e-05, 'epoch': 0.03}\n"
     ]
    },
    {
     "name": "stderr",
     "output_type": "stream",
     "text": [
      "  3%|▎         | 322/10000 [02:02<1:20:19,  2.01it/s]\n",
      "  3%|▎         | 322/10000 [02:02<1:20:19,  2.01it/s]\n"
     ]
    },
    {
     "name": "stdout",
     "output_type": "stream",
     "text": [
      "\u001b[36m(RayTrainWorker pid=3755, ip=10.208.0.196)\u001b[0m {'loss': 8.8191, 'learning_rate': 1.9356000000000002e-05, 'epoch': 0.03}\n",
      "\u001b[36m(RayTrainWorker pid=27656)\u001b[0m {'loss': 8.8191, 'learning_rate': 1.9356000000000002e-05, 'epoch': 0.03}\n"
     ]
    },
    {
     "name": "stderr",
     "output_type": "stream",
     "text": [
      "  3%|▎         | 323/10000 [02:02<1:20:05,  2.01it/s]\n",
      "  3%|▎         | 323/10000 [02:02<1:20:05,  2.01it/s]\n",
      "  3%|▎         | 323/10000 [02:02<1:20:05,  2.01it/s]\n"
     ]
    },
    {
     "name": "stdout",
     "output_type": "stream",
     "text": [
      "\u001b[36m(RayTrainWorker pid=3755, ip=10.208.0.196)\u001b[0m {'loss': 7.3698, 'learning_rate': 1.9354e-05, 'epoch': 0.03}\n",
      "\u001b[36m(RayTrainWorker pid=27656)\u001b[0m {'loss': 7.3698, 'learning_rate': 1.9354e-05, 'epoch': 0.03}\n",
      "\u001b[36m(RayTrainWorker pid=27656)\u001b[0m {'loss': 8.2461, 'learning_rate': 1.9352e-05, 'epoch': 0.03}\n",
      "\u001b[36m(RayTrainWorker pid=3755, ip=10.208.0.196)\u001b[0m {'loss': 8.2461, 'learning_rate': 1.9352e-05, 'epoch': 0.03}\n"
     ]
    },
    {
     "name": "stderr",
     "output_type": "stream",
     "text": [
      "  3%|▎         | 324/10000 [02:03<1:19:29,  2.03it/s]\n",
      "  3%|▎         | 324/10000 [02:03<1:19:29,  2.03it/s]\n",
      "  3%|▎         | 325/10000 [02:03<1:19:41,  2.02it/s]\n",
      "  3%|▎         | 325/10000 [02:03<1:19:44,  2.02it/s]\n"
     ]
    },
    {
     "name": "stdout",
     "output_type": "stream",
     "text": [
      "\u001b[36m(RayTrainWorker pid=3755, ip=10.208.0.196)\u001b[0m {'loss': 7.3536, 'learning_rate': 1.9350000000000003e-05, 'epoch': 0.03}\n",
      "\u001b[36m(RayTrainWorker pid=27656)\u001b[0m {'loss': 7.3536, 'learning_rate': 1.9350000000000003e-05, 'epoch': 0.03}\n"
     ]
    }
   ],
   "source": [
    "import time\n",
    "\n",
    "while True:\n",
    "    with RayConnection(\"ray://ray-master:10001\", runtime_env=runtime_env):\n",
    "        scaling_config = ScalingConfig(num_workers=2, use_gpu=True)\n",
    "        run_config = train.RunConfig(failure_config=train.FailureConfig(max_failures=-1))\n",
    "        ray_trainer = TorchTrainer(\n",
    "            train_func,\n",
    "            train_loop_config={\n",
    "                'local': 'local_dir',\n",
    "                'remote': 's3://train/indexed'\n",
    "            },\n",
    "            scaling_config=scaling_config,\n",
    "            run_config=run_config\n",
    "\n",
    "        )\n",
    "        result = ray_trainer.fit()\n",
    "    \n",
    "    print('ray cluster disconnected, time to sleep.')\n",
    "    time.sleep(10)"
   ]
  },
  {
   "cell_type": "code",
   "execution_count": null,
   "id": "b39a220e",
   "metadata": {},
   "outputs": [],
   "source": []
  }
 ],
 "metadata": {
  "kernelspec": {
   "display_name": "Python 3 (ipykernel)",
   "language": "python",
   "name": "python3"
  },
  "language_info": {
   "codemirror_mode": {
    "name": "ipython",
    "version": 3
   },
   "file_extension": ".py",
   "mimetype": "text/x-python",
   "name": "python",
   "nbconvert_exporter": "python",
   "pygments_lexer": "ipython3",
   "version": "3.10.11"
  }
 },
 "nbformat": 4,
 "nbformat_minor": 5
}
